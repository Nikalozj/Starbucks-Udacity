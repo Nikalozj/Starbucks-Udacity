{
 "cells": [
  {
   "cell_type": "markdown",
   "metadata": {},
   "source": [
    "## High Level Overview\n",
    "\n",
    "Once every few days, Starbucks sends out an offer to users. An offer can be merely an advertisement for a drink or an actual offer such as a discount or BOGO (buy one get one free).\n",
    "\n",
    "The purpose of the project is to create a classifier to predict whether a user will respond to an offer, or in other words, complete an offer.\n",
    "\n",
    "Sending each offer has a cost for the company, so each offer that is not completed is a waste of money for the company. On the other hand, every completed offer is beneficial to the company ( could be loyality of the customer, keeping them active, etc.). So in an ideal world, the company would send offers to all the users who would complete them and only to those users. The classifier would help them move towards this goal."
   ]
  },
  {
   "cell_type": "markdown",
   "metadata": {},
   "source": [
    "## Strategy\n",
    "\n",
    "The stesps to take are:\n",
    "1. Exploratory Data Analysis (EDA) to get information about the data\n",
    "2. Transform data for training and testing\n",
    "3. Choose the best classifier\n",
    "4. Train -> Test -> Evaluate -> Improve loop until we're satisfied with the results\n",
    "5. Create a python application that can be run from terminal. The application will need person id and offer id to predict whether a person will respond to an offer. The results will be output as a csv file."
   ]
  },
  {
   "cell_type": "markdown",
   "metadata": {},
   "source": [
    "## Description of Input Data"
   ]
  },
  {
   "cell_type": "markdown",
   "metadata": {},
   "source": [
    "The data is contained in three files:\n",
    "\n",
    "* portfolio.json - containing offer ids and meta data about each offer (duration, type, etc.)\n",
    "* profile.json - demographic data for each customer\n",
    "* transcript.json - records for transactions, offers received, offers viewed, and offers completed\n",
    "\n",
    "Here is the schema and explanation of each variable in the files:\n",
    "\n",
    "**portfolio.json**\n",
    "* id (string) - offer id\n",
    "* offer_type (string) - type of offer ie BOGO, discount, informational\n",
    "* difficulty (int) - minimum required spend to complete an offer\n",
    "* reward (int) - reward given for completing an offer\n",
    "* duration (int) - time for offer to be open, in days\n",
    "* channels (list of strings)\n",
    "\n",
    "**profile.json**\n",
    "* age (int) - age of the customer \n",
    "* became_member_on (int) - date when customer created an app account\n",
    "* gender (str) - gender of the customer (note some entries contain 'O' for other rather than M or F)\n",
    "* id (str) - customer id\n",
    "* income (float) - customer's income\n",
    "\n",
    "**transcript.json**\n",
    "* event (str) - record description (ie transaction, offer received, offer viewed, etc.)\n",
    "* person (str) - customer id\n",
    "* time (int) - time in hours since start of test. The data begins at time t=0\n",
    "* value - (dict of strings) - either an offer id or transaction amount depending on the record\n"
   ]
  },
  {
   "cell_type": "code",
   "execution_count": 1,
   "metadata": {},
   "outputs": [],
   "source": [
    "# Import libraries\n",
    "import pandas as pd\n",
    "import numpy as np\n",
    "import math\n",
    "import json\n",
    "import time\n",
    "from datetime import date, datetime\n",
    "import seaborn as sns\n",
    "import matplotlib.pyplot as plt\n",
    "% matplotlib inline"
   ]
  },
  {
   "cell_type": "code",
   "execution_count": 2,
   "metadata": {},
   "outputs": [],
   "source": [
    "# Disable warnings\n",
    "import warnings\n",
    "warnings.filterwarnings('ignore')"
   ]
  },
  {
   "cell_type": "code",
   "execution_count": 3,
   "metadata": {},
   "outputs": [],
   "source": [
    "# read in the json files\n",
    "portfolio = pd.read_json('data/portfolio.json', orient='records', lines=True)\n",
    "profile = pd.read_json('data/profile.json', orient='records', lines=True)\n",
    "transcript = pd.read_json('data/transcript.json', orient='records', lines=True)"
   ]
  },
  {
   "cell_type": "code",
   "execution_count": 4,
   "metadata": {},
   "outputs": [
    {
     "data": {
      "text/plain": [
       "(10, 6)"
      ]
     },
     "execution_count": 4,
     "metadata": {},
     "output_type": "execute_result"
    }
   ],
   "source": [
    "# Shape of Portfolio\n",
    "portfolio.shape"
   ]
  },
  {
   "cell_type": "code",
   "execution_count": 5,
   "metadata": {},
   "outputs": [],
   "source": [
    "from sklearn.model_selection import train_test_split, GridSearchCV\n",
    "from sklearn.preprocessing import StandardScaler\n",
    "from sklearn.metrics import confusion_matrix, accuracy_score, f1_score\n",
    "from sklearn.linear_model import LogisticRegression\n",
    "from sklearn.ensemble import RandomForestClassifier\n",
    "from sklearn.neighbors import KNeighborsClassifier"
   ]
  },
  {
   "cell_type": "code",
   "execution_count": 6,
   "metadata": {},
   "outputs": [],
   "source": [
    "import warnings\n",
    "warnings.filterwarnings('ignore')"
   ]
  },
  {
   "cell_type": "code",
   "execution_count": 7,
   "metadata": {},
   "outputs": [
    {
     "data": {
      "text/plain": [
       "(10, 6)"
      ]
     },
     "execution_count": 7,
     "metadata": {},
     "output_type": "execute_result"
    }
   ],
   "source": [
    "# Check portfolio df shape\n",
    "portfolio.shape"
   ]
  },
  {
   "cell_type": "code",
   "execution_count": 8,
   "metadata": {},
   "outputs": [
    {
     "data": {
      "text/html": [
       "<div>\n",
       "<style scoped>\n",
       "    .dataframe tbody tr th:only-of-type {\n",
       "        vertical-align: middle;\n",
       "    }\n",
       "\n",
       "    .dataframe tbody tr th {\n",
       "        vertical-align: top;\n",
       "    }\n",
       "\n",
       "    .dataframe thead th {\n",
       "        text-align: right;\n",
       "    }\n",
       "</style>\n",
       "<table border=\"1\" class=\"dataframe\">\n",
       "  <thead>\n",
       "    <tr style=\"text-align: right;\">\n",
       "      <th></th>\n",
       "      <th>channels</th>\n",
       "      <th>difficulty</th>\n",
       "      <th>duration</th>\n",
       "      <th>id</th>\n",
       "      <th>offer_type</th>\n",
       "      <th>reward</th>\n",
       "    </tr>\n",
       "  </thead>\n",
       "  <tbody>\n",
       "    <tr>\n",
       "      <th>0</th>\n",
       "      <td>[email, mobile, social]</td>\n",
       "      <td>10</td>\n",
       "      <td>7</td>\n",
       "      <td>ae264e3637204a6fb9bb56bc8210ddfd</td>\n",
       "      <td>bogo</td>\n",
       "      <td>10</td>\n",
       "    </tr>\n",
       "    <tr>\n",
       "      <th>1</th>\n",
       "      <td>[web, email, mobile, social]</td>\n",
       "      <td>10</td>\n",
       "      <td>5</td>\n",
       "      <td>4d5c57ea9a6940dd891ad53e9dbe8da0</td>\n",
       "      <td>bogo</td>\n",
       "      <td>10</td>\n",
       "    </tr>\n",
       "    <tr>\n",
       "      <th>2</th>\n",
       "      <td>[web, email, mobile]</td>\n",
       "      <td>0</td>\n",
       "      <td>4</td>\n",
       "      <td>3f207df678b143eea3cee63160fa8bed</td>\n",
       "      <td>informational</td>\n",
       "      <td>0</td>\n",
       "    </tr>\n",
       "    <tr>\n",
       "      <th>3</th>\n",
       "      <td>[web, email, mobile]</td>\n",
       "      <td>5</td>\n",
       "      <td>7</td>\n",
       "      <td>9b98b8c7a33c4b65b9aebfe6a799e6d9</td>\n",
       "      <td>bogo</td>\n",
       "      <td>5</td>\n",
       "    </tr>\n",
       "    <tr>\n",
       "      <th>4</th>\n",
       "      <td>[web, email]</td>\n",
       "      <td>20</td>\n",
       "      <td>10</td>\n",
       "      <td>0b1e1539f2cc45b7b9fa7c272da2e1d7</td>\n",
       "      <td>discount</td>\n",
       "      <td>5</td>\n",
       "    </tr>\n",
       "    <tr>\n",
       "      <th>5</th>\n",
       "      <td>[web, email, mobile, social]</td>\n",
       "      <td>7</td>\n",
       "      <td>7</td>\n",
       "      <td>2298d6c36e964ae4a3e7e9706d1fb8c2</td>\n",
       "      <td>discount</td>\n",
       "      <td>3</td>\n",
       "    </tr>\n",
       "    <tr>\n",
       "      <th>6</th>\n",
       "      <td>[web, email, mobile, social]</td>\n",
       "      <td>10</td>\n",
       "      <td>10</td>\n",
       "      <td>fafdcd668e3743c1bb461111dcafc2a4</td>\n",
       "      <td>discount</td>\n",
       "      <td>2</td>\n",
       "    </tr>\n",
       "    <tr>\n",
       "      <th>7</th>\n",
       "      <td>[email, mobile, social]</td>\n",
       "      <td>0</td>\n",
       "      <td>3</td>\n",
       "      <td>5a8bc65990b245e5a138643cd4eb9837</td>\n",
       "      <td>informational</td>\n",
       "      <td>0</td>\n",
       "    </tr>\n",
       "    <tr>\n",
       "      <th>8</th>\n",
       "      <td>[web, email, mobile, social]</td>\n",
       "      <td>5</td>\n",
       "      <td>5</td>\n",
       "      <td>f19421c1d4aa40978ebb69ca19b0e20d</td>\n",
       "      <td>bogo</td>\n",
       "      <td>5</td>\n",
       "    </tr>\n",
       "    <tr>\n",
       "      <th>9</th>\n",
       "      <td>[web, email, mobile]</td>\n",
       "      <td>10</td>\n",
       "      <td>7</td>\n",
       "      <td>2906b810c7d4411798c6938adc9daaa5</td>\n",
       "      <td>discount</td>\n",
       "      <td>2</td>\n",
       "    </tr>\n",
       "  </tbody>\n",
       "</table>\n",
       "</div>"
      ],
      "text/plain": [
       "                       channels  difficulty  duration  \\\n",
       "0       [email, mobile, social]          10         7   \n",
       "1  [web, email, mobile, social]          10         5   \n",
       "2          [web, email, mobile]           0         4   \n",
       "3          [web, email, mobile]           5         7   \n",
       "4                  [web, email]          20        10   \n",
       "5  [web, email, mobile, social]           7         7   \n",
       "6  [web, email, mobile, social]          10        10   \n",
       "7       [email, mobile, social]           0         3   \n",
       "8  [web, email, mobile, social]           5         5   \n",
       "9          [web, email, mobile]          10         7   \n",
       "\n",
       "                                 id     offer_type  reward  \n",
       "0  ae264e3637204a6fb9bb56bc8210ddfd           bogo      10  \n",
       "1  4d5c57ea9a6940dd891ad53e9dbe8da0           bogo      10  \n",
       "2  3f207df678b143eea3cee63160fa8bed  informational       0  \n",
       "3  9b98b8c7a33c4b65b9aebfe6a799e6d9           bogo       5  \n",
       "4  0b1e1539f2cc45b7b9fa7c272da2e1d7       discount       5  \n",
       "5  2298d6c36e964ae4a3e7e9706d1fb8c2       discount       3  \n",
       "6  fafdcd668e3743c1bb461111dcafc2a4       discount       2  \n",
       "7  5a8bc65990b245e5a138643cd4eb9837  informational       0  \n",
       "8  f19421c1d4aa40978ebb69ca19b0e20d           bogo       5  \n",
       "9  2906b810c7d4411798c6938adc9daaa5       discount       2  "
      ]
     },
     "execution_count": 8,
     "metadata": {},
     "output_type": "execute_result"
    }
   ],
   "source": [
    "# Small dataframe, so we can display all of it\n",
    "portfolio"
   ]
  },
  {
   "cell_type": "code",
   "execution_count": 9,
   "metadata": {},
   "outputs": [
    {
     "data": {
      "text/html": [
       "<div>\n",
       "<style scoped>\n",
       "    .dataframe tbody tr th:only-of-type {\n",
       "        vertical-align: middle;\n",
       "    }\n",
       "\n",
       "    .dataframe tbody tr th {\n",
       "        vertical-align: top;\n",
       "    }\n",
       "\n",
       "    .dataframe thead th {\n",
       "        text-align: right;\n",
       "    }\n",
       "</style>\n",
       "<table border=\"1\" class=\"dataframe\">\n",
       "  <thead>\n",
       "    <tr style=\"text-align: right;\">\n",
       "      <th></th>\n",
       "      <th>difficulty</th>\n",
       "      <th>duration</th>\n",
       "      <th>reward</th>\n",
       "    </tr>\n",
       "  </thead>\n",
       "  <tbody>\n",
       "    <tr>\n",
       "      <th>count</th>\n",
       "      <td>10.000000</td>\n",
       "      <td>10.000000</td>\n",
       "      <td>10.000000</td>\n",
       "    </tr>\n",
       "    <tr>\n",
       "      <th>mean</th>\n",
       "      <td>7.700000</td>\n",
       "      <td>6.500000</td>\n",
       "      <td>4.200000</td>\n",
       "    </tr>\n",
       "    <tr>\n",
       "      <th>std</th>\n",
       "      <td>5.831905</td>\n",
       "      <td>2.321398</td>\n",
       "      <td>3.583915</td>\n",
       "    </tr>\n",
       "    <tr>\n",
       "      <th>min</th>\n",
       "      <td>0.000000</td>\n",
       "      <td>3.000000</td>\n",
       "      <td>0.000000</td>\n",
       "    </tr>\n",
       "    <tr>\n",
       "      <th>25%</th>\n",
       "      <td>5.000000</td>\n",
       "      <td>5.000000</td>\n",
       "      <td>2.000000</td>\n",
       "    </tr>\n",
       "    <tr>\n",
       "      <th>50%</th>\n",
       "      <td>8.500000</td>\n",
       "      <td>7.000000</td>\n",
       "      <td>4.000000</td>\n",
       "    </tr>\n",
       "    <tr>\n",
       "      <th>75%</th>\n",
       "      <td>10.000000</td>\n",
       "      <td>7.000000</td>\n",
       "      <td>5.000000</td>\n",
       "    </tr>\n",
       "    <tr>\n",
       "      <th>max</th>\n",
       "      <td>20.000000</td>\n",
       "      <td>10.000000</td>\n",
       "      <td>10.000000</td>\n",
       "    </tr>\n",
       "  </tbody>\n",
       "</table>\n",
       "</div>"
      ],
      "text/plain": [
       "       difficulty   duration     reward\n",
       "count   10.000000  10.000000  10.000000\n",
       "mean     7.700000   6.500000   4.200000\n",
       "std      5.831905   2.321398   3.583915\n",
       "min      0.000000   3.000000   0.000000\n",
       "25%      5.000000   5.000000   2.000000\n",
       "50%      8.500000   7.000000   4.000000\n",
       "75%     10.000000   7.000000   5.000000\n",
       "max     20.000000  10.000000  10.000000"
      ]
     },
     "execution_count": 9,
     "metadata": {},
     "output_type": "execute_result"
    }
   ],
   "source": [
    "portfolio.describe()"
   ]
  },
  {
   "cell_type": "markdown",
   "metadata": {},
   "source": [
    "**Findings**\n",
    "* We have offer_type 'informational', for which we can not say for sure if a user responded to it, so we might as well\n",
    "drop them;\n",
    "* The company uses 4 channels of communication. The column contains dictionaries, so we'll probably need to unpack later;"
   ]
  },
  {
   "cell_type": "code",
   "execution_count": 10,
   "metadata": {},
   "outputs": [
    {
     "data": {
      "text/html": [
       "<div>\n",
       "<style scoped>\n",
       "    .dataframe tbody tr th:only-of-type {\n",
       "        vertical-align: middle;\n",
       "    }\n",
       "\n",
       "    .dataframe tbody tr th {\n",
       "        vertical-align: top;\n",
       "    }\n",
       "\n",
       "    .dataframe thead th {\n",
       "        text-align: right;\n",
       "    }\n",
       "</style>\n",
       "<table border=\"1\" class=\"dataframe\">\n",
       "  <thead>\n",
       "    <tr style=\"text-align: right;\">\n",
       "      <th></th>\n",
       "      <th>event</th>\n",
       "      <th>person</th>\n",
       "      <th>time</th>\n",
       "      <th>value</th>\n",
       "    </tr>\n",
       "  </thead>\n",
       "  <tbody>\n",
       "    <tr>\n",
       "      <th>0</th>\n",
       "      <td>offer received</td>\n",
       "      <td>78afa995795e4d85b5d9ceeca43f5fef</td>\n",
       "      <td>0</td>\n",
       "      <td>{'offer id': '9b98b8c7a33c4b65b9aebfe6a799e6d9'}</td>\n",
       "    </tr>\n",
       "    <tr>\n",
       "      <th>1</th>\n",
       "      <td>offer received</td>\n",
       "      <td>a03223e636434f42ac4c3df47e8bac43</td>\n",
       "      <td>0</td>\n",
       "      <td>{'offer id': '0b1e1539f2cc45b7b9fa7c272da2e1d7'}</td>\n",
       "    </tr>\n",
       "    <tr>\n",
       "      <th>2</th>\n",
       "      <td>offer received</td>\n",
       "      <td>e2127556f4f64592b11af22de27a7932</td>\n",
       "      <td>0</td>\n",
       "      <td>{'offer id': '2906b810c7d4411798c6938adc9daaa5'}</td>\n",
       "    </tr>\n",
       "    <tr>\n",
       "      <th>3</th>\n",
       "      <td>offer received</td>\n",
       "      <td>8ec6ce2a7e7949b1bf142def7d0e0586</td>\n",
       "      <td>0</td>\n",
       "      <td>{'offer id': 'fafdcd668e3743c1bb461111dcafc2a4'}</td>\n",
       "    </tr>\n",
       "    <tr>\n",
       "      <th>4</th>\n",
       "      <td>offer received</td>\n",
       "      <td>68617ca6246f4fbc85e91a2a49552598</td>\n",
       "      <td>0</td>\n",
       "      <td>{'offer id': '4d5c57ea9a6940dd891ad53e9dbe8da0'}</td>\n",
       "    </tr>\n",
       "  </tbody>\n",
       "</table>\n",
       "</div>"
      ],
      "text/plain": [
       "            event                            person  time  \\\n",
       "0  offer received  78afa995795e4d85b5d9ceeca43f5fef     0   \n",
       "1  offer received  a03223e636434f42ac4c3df47e8bac43     0   \n",
       "2  offer received  e2127556f4f64592b11af22de27a7932     0   \n",
       "3  offer received  8ec6ce2a7e7949b1bf142def7d0e0586     0   \n",
       "4  offer received  68617ca6246f4fbc85e91a2a49552598     0   \n",
       "\n",
       "                                              value  \n",
       "0  {'offer id': '9b98b8c7a33c4b65b9aebfe6a799e6d9'}  \n",
       "1  {'offer id': '0b1e1539f2cc45b7b9fa7c272da2e1d7'}  \n",
       "2  {'offer id': '2906b810c7d4411798c6938adc9daaa5'}  \n",
       "3  {'offer id': 'fafdcd668e3743c1bb461111dcafc2a4'}  \n",
       "4  {'offer id': '4d5c57ea9a6940dd891ad53e9dbe8da0'}  "
      ]
     },
     "execution_count": 10,
     "metadata": {},
     "output_type": "execute_result"
    }
   ],
   "source": [
    "# Check Transcript\n",
    "transcript.head()"
   ]
  },
  {
   "cell_type": "code",
   "execution_count": 11,
   "metadata": {},
   "outputs": [
    {
     "data": {
      "text/plain": [
       "event     0\n",
       "person    0\n",
       "time      0\n",
       "value     0\n",
       "dtype: int64"
      ]
     },
     "execution_count": 11,
     "metadata": {},
     "output_type": "execute_result"
    }
   ],
   "source": [
    "# Check nulls\n",
    "transcript.isnull().sum()"
   ]
  },
  {
   "cell_type": "code",
   "execution_count": 12,
   "metadata": {},
   "outputs": [
    {
     "data": {
      "text/plain": [
       "transaction        138953\n",
       "offer received      76277\n",
       "offer viewed        57725\n",
       "offer completed     33579\n",
       "Name: event, dtype: int64"
      ]
     },
     "execution_count": 12,
     "metadata": {},
     "output_type": "execute_result"
    }
   ],
   "source": [
    "# Check event types\n",
    "transcript['event'].value_counts()"
   ]
  },
  {
   "cell_type": "markdown",
   "metadata": {},
   "source": [
    "**Findings**\n",
    "* Column 'value' contains dictionaries, we'll probably need to unpack later\n",
    "* No nulls in our transaction dataset, very nice\n",
    "* 4 types of events, we'll probably mostly use offer related ones"
   ]
  },
  {
   "cell_type": "code",
   "execution_count": 13,
   "metadata": {},
   "outputs": [
    {
     "data": {
      "text/html": [
       "<div>\n",
       "<style scoped>\n",
       "    .dataframe tbody tr th:only-of-type {\n",
       "        vertical-align: middle;\n",
       "    }\n",
       "\n",
       "    .dataframe tbody tr th {\n",
       "        vertical-align: top;\n",
       "    }\n",
       "\n",
       "    .dataframe thead th {\n",
       "        text-align: right;\n",
       "    }\n",
       "</style>\n",
       "<table border=\"1\" class=\"dataframe\">\n",
       "  <thead>\n",
       "    <tr style=\"text-align: right;\">\n",
       "      <th></th>\n",
       "      <th>time</th>\n",
       "    </tr>\n",
       "  </thead>\n",
       "  <tbody>\n",
       "    <tr>\n",
       "      <th>count</th>\n",
       "      <td>306534.000000</td>\n",
       "    </tr>\n",
       "    <tr>\n",
       "      <th>mean</th>\n",
       "      <td>366.382940</td>\n",
       "    </tr>\n",
       "    <tr>\n",
       "      <th>std</th>\n",
       "      <td>200.326314</td>\n",
       "    </tr>\n",
       "    <tr>\n",
       "      <th>min</th>\n",
       "      <td>0.000000</td>\n",
       "    </tr>\n",
       "    <tr>\n",
       "      <th>25%</th>\n",
       "      <td>186.000000</td>\n",
       "    </tr>\n",
       "    <tr>\n",
       "      <th>50%</th>\n",
       "      <td>408.000000</td>\n",
       "    </tr>\n",
       "    <tr>\n",
       "      <th>75%</th>\n",
       "      <td>528.000000</td>\n",
       "    </tr>\n",
       "    <tr>\n",
       "      <th>max</th>\n",
       "      <td>714.000000</td>\n",
       "    </tr>\n",
       "  </tbody>\n",
       "</table>\n",
       "</div>"
      ],
      "text/plain": [
       "                time\n",
       "count  306534.000000\n",
       "mean      366.382940\n",
       "std       200.326314\n",
       "min         0.000000\n",
       "25%       186.000000\n",
       "50%       408.000000\n",
       "75%       528.000000\n",
       "max       714.000000"
      ]
     },
     "execution_count": 13,
     "metadata": {},
     "output_type": "execute_result"
    }
   ],
   "source": [
    "# Check time column stats\n",
    "transcript.describe()"
   ]
  },
  {
   "cell_type": "code",
   "execution_count": 14,
   "metadata": {},
   "outputs": [
    {
     "data": {
      "text/plain": [
       "amount              138953\n",
       "offer id            134002\n",
       "offer_id, reward     33579\n",
       "Name: value, dtype: int64"
      ]
     },
     "execution_count": 14,
     "metadata": {},
     "output_type": "execute_result"
    }
   ],
   "source": [
    "# Check value column dictionary keys\n",
    "transcript['value'].apply(lambda x: ', '.join(x.keys())).value_counts()"
   ]
  },
  {
   "cell_type": "code",
   "execution_count": 15,
   "metadata": {},
   "outputs": [
    {
     "data": {
      "text/html": [
       "<div>\n",
       "<style scoped>\n",
       "    .dataframe tbody tr th:only-of-type {\n",
       "        vertical-align: middle;\n",
       "    }\n",
       "\n",
       "    .dataframe tbody tr th {\n",
       "        vertical-align: top;\n",
       "    }\n",
       "\n",
       "    .dataframe thead th {\n",
       "        text-align: right;\n",
       "    }\n",
       "</style>\n",
       "<table border=\"1\" class=\"dataframe\">\n",
       "  <thead>\n",
       "    <tr style=\"text-align: right;\">\n",
       "      <th></th>\n",
       "      <th></th>\n",
       "      <th>person</th>\n",
       "      <th>time</th>\n",
       "      <th>value</th>\n",
       "    </tr>\n",
       "    <tr>\n",
       "      <th>event</th>\n",
       "      <th>keys</th>\n",
       "      <th></th>\n",
       "      <th></th>\n",
       "      <th></th>\n",
       "    </tr>\n",
       "  </thead>\n",
       "  <tbody>\n",
       "    <tr>\n",
       "      <th>offer completed</th>\n",
       "      <th>offer_id, reward</th>\n",
       "      <td>33579</td>\n",
       "      <td>33579</td>\n",
       "      <td>33579</td>\n",
       "    </tr>\n",
       "    <tr>\n",
       "      <th>offer received</th>\n",
       "      <th>offer id</th>\n",
       "      <td>76277</td>\n",
       "      <td>76277</td>\n",
       "      <td>76277</td>\n",
       "    </tr>\n",
       "    <tr>\n",
       "      <th>offer viewed</th>\n",
       "      <th>offer id</th>\n",
       "      <td>57725</td>\n",
       "      <td>57725</td>\n",
       "      <td>57725</td>\n",
       "    </tr>\n",
       "    <tr>\n",
       "      <th>transaction</th>\n",
       "      <th>amount</th>\n",
       "      <td>138953</td>\n",
       "      <td>138953</td>\n",
       "      <td>138953</td>\n",
       "    </tr>\n",
       "  </tbody>\n",
       "</table>\n",
       "</div>"
      ],
      "text/plain": [
       "                                  person    time   value\n",
       "event           keys                                    \n",
       "offer completed offer_id, reward   33579   33579   33579\n",
       "offer received  offer id           76277   76277   76277\n",
       "offer viewed    offer id           57725   57725   57725\n",
       "transaction     amount            138953  138953  138953"
      ]
     },
     "execution_count": 15,
     "metadata": {},
     "output_type": "execute_result"
    }
   ],
   "source": [
    "transcript['keys'] = transcript['value'].apply(lambda x: ', '.join(x.keys()))\n",
    "\n",
    "transcript.groupby(['event', 'keys']).count()"
   ]
  },
  {
   "cell_type": "code",
   "execution_count": 16,
   "metadata": {},
   "outputs": [],
   "source": [
    "transcript.drop('keys', axis = 1, inplace = True)"
   ]
  },
  {
   "cell_type": "markdown",
   "metadata": {},
   "source": [
    "**Findings**\n",
    "* Column 'value' has different spelling for different events, 'offer_id' for 'offer completed' and 'offer id' for others"
   ]
  },
  {
   "cell_type": "code",
   "execution_count": 17,
   "metadata": {},
   "outputs": [
    {
     "data": {
      "text/plain": [
       "offer received     0.455165\n",
       "offer viewed       0.344460\n",
       "offer completed    0.200375\n",
       "Name: event, dtype: float64"
      ]
     },
     "execution_count": 17,
     "metadata": {},
     "output_type": "execute_result"
    },
    {
     "data": {
      "image/png": "[encoded data removed]",
      "text/plain": [
       "<matplotlib.figure.Figure at 0x7fdafc2b8438>"
      ]
     },
     "metadata": {
      "needs_background": "light"
     },
     "output_type": "display_data"
    }
   ],
   "source": [
    "# Let's check the funnel offer received -> offer viewed -> offer completed\n",
    "sns.countplot(transcript[transcript['event'] != 'transaction']['event'])\n",
    "\n",
    "transcript[transcript['event'] != 'transaction']['event'].value_counts() / transcript[transcript['event'] != 'transaction']['event'].shape[0]\n"
   ]
  },
  {
   "cell_type": "markdown",
   "metadata": {},
   "source": [
    "**Findings**\n",
    "* The funnel ratios by stages are about 9-7-4, so about 78% of received offers get viewed and 44% get completed.\n",
    "* In business terms, if our predictions help marketing team get more than 44% completed with the same budget spent, we've made progress"
   ]
  },
  {
   "cell_type": "code",
   "execution_count": 18,
   "metadata": {},
   "outputs": [
    {
     "data": {
      "text/plain": [
       "event\n",
       "offer completed    714\n",
       "offer received     576\n",
       "offer viewed       714\n",
       "transaction        714\n",
       "Name: time, dtype: int64"
      ]
     },
     "execution_count": 18,
     "metadata": {},
     "output_type": "execute_result"
    }
   ],
   "source": [
    "# Let's check max values of time for each event\n",
    "transcript.groupby('event').max()['time']"
   ]
  },
  {
   "cell_type": "markdown",
   "metadata": {},
   "source": [
    "**Findings**\n",
    "* Maximum 'time' for 'offer received' is 576, while for others it's 714. Which means we can make decisions for all of the offers received"
   ]
  },
  {
   "cell_type": "code",
   "execution_count": 19,
   "metadata": {},
   "outputs": [
    {
     "data": {
      "text/html": [
       "<div>\n",
       "<style scoped>\n",
       "    .dataframe tbody tr th:only-of-type {\n",
       "        vertical-align: middle;\n",
       "    }\n",
       "\n",
       "    .dataframe tbody tr th {\n",
       "        vertical-align: top;\n",
       "    }\n",
       "\n",
       "    .dataframe thead th {\n",
       "        text-align: right;\n",
       "    }\n",
       "</style>\n",
       "<table border=\"1\" class=\"dataframe\">\n",
       "  <thead>\n",
       "    <tr style=\"text-align: right;\">\n",
       "      <th></th>\n",
       "      <th>age</th>\n",
       "      <th>became_member_on</th>\n",
       "      <th>gender</th>\n",
       "      <th>id</th>\n",
       "      <th>income</th>\n",
       "    </tr>\n",
       "  </thead>\n",
       "  <tbody>\n",
       "    <tr>\n",
       "      <th>0</th>\n",
       "      <td>118</td>\n",
       "      <td>20170212</td>\n",
       "      <td>None</td>\n",
       "      <td>68be06ca386d4c31939f3a4f0e3dd783</td>\n",
       "      <td>NaN</td>\n",
       "    </tr>\n",
       "    <tr>\n",
       "      <th>1</th>\n",
       "      <td>55</td>\n",
       "      <td>20170715</td>\n",
       "      <td>F</td>\n",
       "      <td>0610b486422d4921ae7d2bf64640c50b</td>\n",
       "      <td>112000.0</td>\n",
       "    </tr>\n",
       "    <tr>\n",
       "      <th>2</th>\n",
       "      <td>118</td>\n",
       "      <td>20180712</td>\n",
       "      <td>None</td>\n",
       "      <td>38fe809add3b4fcf9315a9694bb96ff5</td>\n",
       "      <td>NaN</td>\n",
       "    </tr>\n",
       "    <tr>\n",
       "      <th>3</th>\n",
       "      <td>75</td>\n",
       "      <td>20170509</td>\n",
       "      <td>F</td>\n",
       "      <td>78afa995795e4d85b5d9ceeca43f5fef</td>\n",
       "      <td>100000.0</td>\n",
       "    </tr>\n",
       "    <tr>\n",
       "      <th>4</th>\n",
       "      <td>118</td>\n",
       "      <td>20170804</td>\n",
       "      <td>None</td>\n",
       "      <td>a03223e636434f42ac4c3df47e8bac43</td>\n",
       "      <td>NaN</td>\n",
       "    </tr>\n",
       "  </tbody>\n",
       "</table>\n",
       "</div>"
      ],
      "text/plain": [
       "   age  became_member_on gender                                id    income\n",
       "0  118          20170212   None  68be06ca386d4c31939f3a4f0e3dd783       NaN\n",
       "1   55          20170715      F  0610b486422d4921ae7d2bf64640c50b  112000.0\n",
       "2  118          20180712   None  38fe809add3b4fcf9315a9694bb96ff5       NaN\n",
       "3   75          20170509      F  78afa995795e4d85b5d9ceeca43f5fef  100000.0\n",
       "4  118          20170804   None  a03223e636434f42ac4c3df47e8bac43       NaN"
      ]
     },
     "execution_count": 19,
     "metadata": {},
     "output_type": "execute_result"
    }
   ],
   "source": [
    "# Chek profile\n",
    "profile.head()"
   ]
  },
  {
   "cell_type": "code",
   "execution_count": 20,
   "metadata": {},
   "outputs": [
    {
     "data": {
      "text/plain": [
       "age                    0\n",
       "became_member_on       0\n",
       "gender              2175\n",
       "id                     0\n",
       "income              2175\n",
       "dtype: int64"
      ]
     },
     "execution_count": 20,
     "metadata": {},
     "output_type": "execute_result"
    }
   ],
   "source": [
    "# Seems like we have nulls\n",
    "profile.isnull().sum()"
   ]
  },
  {
   "cell_type": "code",
   "execution_count": 21,
   "metadata": {},
   "outputs": [
    {
     "data": {
      "text/html": [
       "<div>\n",
       "<style scoped>\n",
       "    .dataframe tbody tr th:only-of-type {\n",
       "        vertical-align: middle;\n",
       "    }\n",
       "\n",
       "    .dataframe tbody tr th {\n",
       "        vertical-align: top;\n",
       "    }\n",
       "\n",
       "    .dataframe thead th {\n",
       "        text-align: right;\n",
       "    }\n",
       "</style>\n",
       "<table border=\"1\" class=\"dataframe\">\n",
       "  <thead>\n",
       "    <tr style=\"text-align: right;\">\n",
       "      <th></th>\n",
       "      <th>age</th>\n",
       "      <th>became_member_on</th>\n",
       "      <th>income</th>\n",
       "    </tr>\n",
       "  </thead>\n",
       "  <tbody>\n",
       "    <tr>\n",
       "      <th>count</th>\n",
       "      <td>17000.000000</td>\n",
       "      <td>1.700000e+04</td>\n",
       "      <td>14825.000000</td>\n",
       "    </tr>\n",
       "    <tr>\n",
       "      <th>mean</th>\n",
       "      <td>62.531412</td>\n",
       "      <td>2.016703e+07</td>\n",
       "      <td>65404.991568</td>\n",
       "    </tr>\n",
       "    <tr>\n",
       "      <th>std</th>\n",
       "      <td>26.738580</td>\n",
       "      <td>1.167750e+04</td>\n",
       "      <td>21598.299410</td>\n",
       "    </tr>\n",
       "    <tr>\n",
       "      <th>min</th>\n",
       "      <td>18.000000</td>\n",
       "      <td>2.013073e+07</td>\n",
       "      <td>30000.000000</td>\n",
       "    </tr>\n",
       "    <tr>\n",
       "      <th>25%</th>\n",
       "      <td>45.000000</td>\n",
       "      <td>2.016053e+07</td>\n",
       "      <td>49000.000000</td>\n",
       "    </tr>\n",
       "    <tr>\n",
       "      <th>50%</th>\n",
       "      <td>58.000000</td>\n",
       "      <td>2.017080e+07</td>\n",
       "      <td>64000.000000</td>\n",
       "    </tr>\n",
       "    <tr>\n",
       "      <th>75%</th>\n",
       "      <td>73.000000</td>\n",
       "      <td>2.017123e+07</td>\n",
       "      <td>80000.000000</td>\n",
       "    </tr>\n",
       "    <tr>\n",
       "      <th>max</th>\n",
       "      <td>118.000000</td>\n",
       "      <td>2.018073e+07</td>\n",
       "      <td>120000.000000</td>\n",
       "    </tr>\n",
       "  </tbody>\n",
       "</table>\n",
       "</div>"
      ],
      "text/plain": [
       "                age  became_member_on         income\n",
       "count  17000.000000      1.700000e+04   14825.000000\n",
       "mean      62.531412      2.016703e+07   65404.991568\n",
       "std       26.738580      1.167750e+04   21598.299410\n",
       "min       18.000000      2.013073e+07   30000.000000\n",
       "25%       45.000000      2.016053e+07   49000.000000\n",
       "50%       58.000000      2.017080e+07   64000.000000\n",
       "75%       73.000000      2.017123e+07   80000.000000\n",
       "max      118.000000      2.018073e+07  120000.000000"
      ]
     },
     "execution_count": 21,
     "metadata": {},
     "output_type": "execute_result"
    }
   ],
   "source": [
    "profile.describe()"
   ]
  },
  {
   "cell_type": "markdown",
   "metadata": {},
   "source": [
    "**Findings**\n",
    "* Looks like we have same number of nulls in 'gender' and 'income' columns\n",
    "* Having three 118 year olds in the first 5 rows is a bit suspicious. 118 is the highest age so it's probably a default value"
   ]
  },
  {
   "cell_type": "code",
   "execution_count": 22,
   "metadata": {},
   "outputs": [
    {
     "data": {
      "text/plain": [
       "<matplotlib.axes._subplots.AxesSubplot at 0x7fdab0aa8b70>"
      ]
     },
     "execution_count": 22,
     "metadata": {},
     "output_type": "execute_result"
    },
    {
     "data": {
      "image/png": "[encoded data removed]",
      "text/plain": [
       "<matplotlib.figure.Figure at 0x7fdab0b7e978>"
      ]
     },
     "metadata": {
      "needs_background": "light"
     },
     "output_type": "display_data"
    }
   ],
   "source": [
    "# Check age distribution\n",
    "sns.distplot(profile['age'])"
   ]
  },
  {
   "cell_type": "code",
   "execution_count": 23,
   "metadata": {},
   "outputs": [
    {
     "data": {
      "text/plain": [
       "2175"
      ]
     },
     "execution_count": 23,
     "metadata": {},
     "output_type": "execute_result"
    }
   ],
   "source": [
    "# Check number of age == 118\n",
    "profile[profile['age'] == 118].shape[0]"
   ]
  },
  {
   "cell_type": "markdown",
   "metadata": {},
   "source": [
    "**Findings**\n",
    "* Looks like we have same number of nulls in 'gender' and 'income' columns\n",
    "* Maximum value of age is 118 and about 6% are of this age, it's most likely a default value for age when registering. They're basically nulls for age.\n",
    "* We have the same number of gender/income nulls as 118 year olds, they're probably the same users"
   ]
  },
  {
   "cell_type": "code",
   "execution_count": 24,
   "metadata": {},
   "outputs": [
    {
     "data": {
      "text/plain": [
       "age                    0\n",
       "became_member_on       0\n",
       "gender              2175\n",
       "id                     0\n",
       "income              2175\n",
       "dtype: int64"
      ]
     },
     "execution_count": 24,
     "metadata": {},
     "output_type": "execute_result"
    }
   ],
   "source": [
    "profile[profile['age'] == 118].isnull().sum()"
   ]
  },
  {
   "cell_type": "code",
   "execution_count": 25,
   "metadata": {},
   "outputs": [],
   "source": [
    "# Looks like they are the same rows"
   ]
  },
  {
   "cell_type": "markdown",
   "metadata": {},
   "source": [
    "# Data Preparation"
   ]
  },
  {
   "cell_type": "markdown",
   "metadata": {},
   "source": [
    "Data Preparation process has the following steps:\n",
    "1. Clean Portfolio Dataset\n",
    "2. Clean Profile Dataset\n",
    "3. Process Transcript Dataset\n",
    "4. Engineer Features\n",
    "5. Merge Datasets\n",
    "6. Split into Train and Test\n",
    "7. Explore and Modify Train Set"
   ]
  },
  {
   "cell_type": "markdown",
   "metadata": {},
   "source": [
    "First thing to do is clean and merge datasets."
   ]
  },
  {
   "cell_type": "markdown",
   "metadata": {},
   "source": [
    "### 1. Clean Portfolio Dataset"
   ]
  },
  {
   "cell_type": "code",
   "execution_count": 26,
   "metadata": {},
   "outputs": [
    {
     "data": {
      "text/html": [
       "<div>\n",
       "<style scoped>\n",
       "    .dataframe tbody tr th:only-of-type {\n",
       "        vertical-align: middle;\n",
       "    }\n",
       "\n",
       "    .dataframe tbody tr th {\n",
       "        vertical-align: top;\n",
       "    }\n",
       "\n",
       "    .dataframe thead th {\n",
       "        text-align: right;\n",
       "    }\n",
       "</style>\n",
       "<table border=\"1\" class=\"dataframe\">\n",
       "  <thead>\n",
       "    <tr style=\"text-align: right;\">\n",
       "      <th></th>\n",
       "      <th>channels</th>\n",
       "      <th>difficulty</th>\n",
       "      <th>duration</th>\n",
       "      <th>id</th>\n",
       "      <th>offer_type</th>\n",
       "      <th>reward</th>\n",
       "    </tr>\n",
       "  </thead>\n",
       "  <tbody>\n",
       "    <tr>\n",
       "      <th>0</th>\n",
       "      <td>[email, mobile, social]</td>\n",
       "      <td>10</td>\n",
       "      <td>7</td>\n",
       "      <td>ae264e3637204a6fb9bb56bc8210ddfd</td>\n",
       "      <td>bogo</td>\n",
       "      <td>10</td>\n",
       "    </tr>\n",
       "    <tr>\n",
       "      <th>1</th>\n",
       "      <td>[web, email, mobile, social]</td>\n",
       "      <td>10</td>\n",
       "      <td>5</td>\n",
       "      <td>4d5c57ea9a6940dd891ad53e9dbe8da0</td>\n",
       "      <td>bogo</td>\n",
       "      <td>10</td>\n",
       "    </tr>\n",
       "    <tr>\n",
       "      <th>2</th>\n",
       "      <td>[web, email, mobile]</td>\n",
       "      <td>0</td>\n",
       "      <td>4</td>\n",
       "      <td>3f207df678b143eea3cee63160fa8bed</td>\n",
       "      <td>informational</td>\n",
       "      <td>0</td>\n",
       "    </tr>\n",
       "    <tr>\n",
       "      <th>3</th>\n",
       "      <td>[web, email, mobile]</td>\n",
       "      <td>5</td>\n",
       "      <td>7</td>\n",
       "      <td>9b98b8c7a33c4b65b9aebfe6a799e6d9</td>\n",
       "      <td>bogo</td>\n",
       "      <td>5</td>\n",
       "    </tr>\n",
       "    <tr>\n",
       "      <th>4</th>\n",
       "      <td>[web, email]</td>\n",
       "      <td>20</td>\n",
       "      <td>10</td>\n",
       "      <td>0b1e1539f2cc45b7b9fa7c272da2e1d7</td>\n",
       "      <td>discount</td>\n",
       "      <td>5</td>\n",
       "    </tr>\n",
       "  </tbody>\n",
       "</table>\n",
       "</div>"
      ],
      "text/plain": [
       "                       channels  difficulty  duration  \\\n",
       "0       [email, mobile, social]          10         7   \n",
       "1  [web, email, mobile, social]          10         5   \n",
       "2          [web, email, mobile]           0         4   \n",
       "3          [web, email, mobile]           5         7   \n",
       "4                  [web, email]          20        10   \n",
       "\n",
       "                                 id     offer_type  reward  \n",
       "0  ae264e3637204a6fb9bb56bc8210ddfd           bogo      10  \n",
       "1  4d5c57ea9a6940dd891ad53e9dbe8da0           bogo      10  \n",
       "2  3f207df678b143eea3cee63160fa8bed  informational       0  \n",
       "3  9b98b8c7a33c4b65b9aebfe6a799e6d9           bogo       5  \n",
       "4  0b1e1539f2cc45b7b9fa7c272da2e1d7       discount       5  "
      ]
     },
     "execution_count": 26,
     "metadata": {},
     "output_type": "execute_result"
    }
   ],
   "source": [
    "portfolio.head()"
   ]
  },
  {
   "cell_type": "code",
   "execution_count": 27,
   "metadata": {},
   "outputs": [],
   "source": [
    "def clean_portfolio(df):\n",
    "    '''\n",
    "    DESCRIPTION\n",
    "    Prepare porttfolio dataframe\n",
    "    \n",
    "    INPUT\n",
    "    df - portfolio dataframe\n",
    "    \n",
    "    OUTPUT\n",
    "    df_cleaned - cleaned portfolio dataaframe\n",
    "    '''\n",
    "    # Remove offer_type'informational' because users canno't respond to such type\n",
    "    df_cleaned = df[df['offer_type'] != 'informational']\n",
    "    \n",
    "    # Rename id to offer_id to later merge to transactions df\n",
    "    df_cleaned.rename(columns = {\"id\": 'offer_id'}, inplace = True)\n",
    "    \n",
    "    # Create dummy variables for channels\n",
    "    df_cleaned['social'] = df_cleaned['channels'].apply(lambda x: 1 if 'social' in x else 0)\n",
    "    df_cleaned['mobile'] = df_cleaned['channels'].apply(lambda x: 1 if 'mobile' in x else 0)\n",
    "    \n",
    "    # Create dummy variable for offer_type\n",
    "    df_cleaned['bogo'] = df_cleaned['offer_type'].apply(lambda x: 1 if x == 'bogo' else 0)\n",
    "    \n",
    "    # Drop channels and offer_type columns\n",
    "    df_cleaned.drop(['channels', 'offer_type'], axis = 1, inplace = True)\n",
    "    \n",
    "    # Return cleaned df\n",
    "    return df_cleaned"
   ]
  },
  {
   "cell_type": "code",
   "execution_count": 28,
   "metadata": {},
   "outputs": [],
   "source": [
    "portfolio_cleaned = clean_portfolio(portfolio)"
   ]
  },
  {
   "cell_type": "code",
   "execution_count": 29,
   "metadata": {},
   "outputs": [
    {
     "data": {
      "text/html": [
       "<div>\n",
       "<style scoped>\n",
       "    .dataframe tbody tr th:only-of-type {\n",
       "        vertical-align: middle;\n",
       "    }\n",
       "\n",
       "    .dataframe tbody tr th {\n",
       "        vertical-align: top;\n",
       "    }\n",
       "\n",
       "    .dataframe thead th {\n",
       "        text-align: right;\n",
       "    }\n",
       "</style>\n",
       "<table border=\"1\" class=\"dataframe\">\n",
       "  <thead>\n",
       "    <tr style=\"text-align: right;\">\n",
       "      <th></th>\n",
       "      <th>difficulty</th>\n",
       "      <th>duration</th>\n",
       "      <th>offer_id</th>\n",
       "      <th>reward</th>\n",
       "      <th>social</th>\n",
       "      <th>mobile</th>\n",
       "      <th>bogo</th>\n",
       "    </tr>\n",
       "  </thead>\n",
       "  <tbody>\n",
       "    <tr>\n",
       "      <th>0</th>\n",
       "      <td>10</td>\n",
       "      <td>7</td>\n",
       "      <td>ae264e3637204a6fb9bb56bc8210ddfd</td>\n",
       "      <td>10</td>\n",
       "      <td>1</td>\n",
       "      <td>1</td>\n",
       "      <td>1</td>\n",
       "    </tr>\n",
       "    <tr>\n",
       "      <th>1</th>\n",
       "      <td>10</td>\n",
       "      <td>5</td>\n",
       "      <td>4d5c57ea9a6940dd891ad53e9dbe8da0</td>\n",
       "      <td>10</td>\n",
       "      <td>1</td>\n",
       "      <td>1</td>\n",
       "      <td>1</td>\n",
       "    </tr>\n",
       "    <tr>\n",
       "      <th>3</th>\n",
       "      <td>5</td>\n",
       "      <td>7</td>\n",
       "      <td>9b98b8c7a33c4b65b9aebfe6a799e6d9</td>\n",
       "      <td>5</td>\n",
       "      <td>0</td>\n",
       "      <td>1</td>\n",
       "      <td>1</td>\n",
       "    </tr>\n",
       "    <tr>\n",
       "      <th>4</th>\n",
       "      <td>20</td>\n",
       "      <td>10</td>\n",
       "      <td>0b1e1539f2cc45b7b9fa7c272da2e1d7</td>\n",
       "      <td>5</td>\n",
       "      <td>0</td>\n",
       "      <td>0</td>\n",
       "      <td>0</td>\n",
       "    </tr>\n",
       "    <tr>\n",
       "      <th>5</th>\n",
       "      <td>7</td>\n",
       "      <td>7</td>\n",
       "      <td>2298d6c36e964ae4a3e7e9706d1fb8c2</td>\n",
       "      <td>3</td>\n",
       "      <td>1</td>\n",
       "      <td>1</td>\n",
       "      <td>0</td>\n",
       "    </tr>\n",
       "  </tbody>\n",
       "</table>\n",
       "</div>"
      ],
      "text/plain": [
       "   difficulty  duration                          offer_id  reward  social  \\\n",
       "0          10         7  ae264e3637204a6fb9bb56bc8210ddfd      10       1   \n",
       "1          10         5  4d5c57ea9a6940dd891ad53e9dbe8da0      10       1   \n",
       "3           5         7  9b98b8c7a33c4b65b9aebfe6a799e6d9       5       0   \n",
       "4          20        10  0b1e1539f2cc45b7b9fa7c272da2e1d7       5       0   \n",
       "5           7         7  2298d6c36e964ae4a3e7e9706d1fb8c2       3       1   \n",
       "\n",
       "   mobile  bogo  \n",
       "0       1     1  \n",
       "1       1     1  \n",
       "3       1     1  \n",
       "4       0     0  \n",
       "5       1     0  "
      ]
     },
     "execution_count": 29,
     "metadata": {},
     "output_type": "execute_result"
    }
   ],
   "source": [
    "portfolio_cleaned.head()"
   ]
  },
  {
   "cell_type": "markdown",
   "metadata": {},
   "source": [
    "### 2. Clean Profile Dataset"
   ]
  },
  {
   "cell_type": "code",
   "execution_count": 30,
   "metadata": {},
   "outputs": [
    {
     "data": {
      "text/html": [
       "<div>\n",
       "<style scoped>\n",
       "    .dataframe tbody tr th:only-of-type {\n",
       "        vertical-align: middle;\n",
       "    }\n",
       "\n",
       "    .dataframe tbody tr th {\n",
       "        vertical-align: top;\n",
       "    }\n",
       "\n",
       "    .dataframe thead th {\n",
       "        text-align: right;\n",
       "    }\n",
       "</style>\n",
       "<table border=\"1\" class=\"dataframe\">\n",
       "  <thead>\n",
       "    <tr style=\"text-align: right;\">\n",
       "      <th></th>\n",
       "      <th>age</th>\n",
       "      <th>became_member_on</th>\n",
       "      <th>gender</th>\n",
       "      <th>id</th>\n",
       "      <th>income</th>\n",
       "    </tr>\n",
       "  </thead>\n",
       "  <tbody>\n",
       "    <tr>\n",
       "      <th>0</th>\n",
       "      <td>118</td>\n",
       "      <td>20170212</td>\n",
       "      <td>None</td>\n",
       "      <td>68be06ca386d4c31939f3a4f0e3dd783</td>\n",
       "      <td>NaN</td>\n",
       "    </tr>\n",
       "    <tr>\n",
       "      <th>1</th>\n",
       "      <td>55</td>\n",
       "      <td>20170715</td>\n",
       "      <td>F</td>\n",
       "      <td>0610b486422d4921ae7d2bf64640c50b</td>\n",
       "      <td>112000.0</td>\n",
       "    </tr>\n",
       "    <tr>\n",
       "      <th>2</th>\n",
       "      <td>118</td>\n",
       "      <td>20180712</td>\n",
       "      <td>None</td>\n",
       "      <td>38fe809add3b4fcf9315a9694bb96ff5</td>\n",
       "      <td>NaN</td>\n",
       "    </tr>\n",
       "    <tr>\n",
       "      <th>3</th>\n",
       "      <td>75</td>\n",
       "      <td>20170509</td>\n",
       "      <td>F</td>\n",
       "      <td>78afa995795e4d85b5d9ceeca43f5fef</td>\n",
       "      <td>100000.0</td>\n",
       "    </tr>\n",
       "    <tr>\n",
       "      <th>4</th>\n",
       "      <td>118</td>\n",
       "      <td>20170804</td>\n",
       "      <td>None</td>\n",
       "      <td>a03223e636434f42ac4c3df47e8bac43</td>\n",
       "      <td>NaN</td>\n",
       "    </tr>\n",
       "  </tbody>\n",
       "</table>\n",
       "</div>"
      ],
      "text/plain": [
       "   age  became_member_on gender                                id    income\n",
       "0  118          20170212   None  68be06ca386d4c31939f3a4f0e3dd783       NaN\n",
       "1   55          20170715      F  0610b486422d4921ae7d2bf64640c50b  112000.0\n",
       "2  118          20180712   None  38fe809add3b4fcf9315a9694bb96ff5       NaN\n",
       "3   75          20170509      F  78afa995795e4d85b5d9ceeca43f5fef  100000.0\n",
       "4  118          20170804   None  a03223e636434f42ac4c3df47e8bac43       NaN"
      ]
     },
     "execution_count": 30,
     "metadata": {},
     "output_type": "execute_result"
    }
   ],
   "source": [
    "profile.head()"
   ]
  },
  {
   "cell_type": "code",
   "execution_count": 31,
   "metadata": {},
   "outputs": [],
   "source": [
    "def clean_profile(df):\n",
    "    '''\n",
    "    DESCRIPTION\n",
    "    Prepares profile dataframe\n",
    "    \n",
    "    INPUT\n",
    "    df - profile data\n",
    "    \n",
    "    OUTPUT\n",
    "    df_cleaned - data with no null values\n",
    "    df_nulls - data with nulls or default values\n",
    "    '''\n",
    "    # Rename 'id' to 'person' for later join with transactions df\n",
    "    df_new = df.rename(columns = {\"id\": 'person'})\n",
    "    \n",
    "    # Change registration date to days_registered\n",
    "    df_new['days_registered'] = df_new['became_member_on'].apply(lambda x: (pd.to_datetime('today').normalize() -\n",
    "                                                     datetime(int(str(x)[0:4]), int(str(x)[4:6]), int(str(x)[6:]))).days)\n",
    "    \n",
    "    # Drop beame_member_on\n",
    "    df_new.drop('became_member_on', axis = 1, inplace = True)\n",
    "    \n",
    "    # Return\n",
    "    return df_new"
   ]
  },
  {
   "cell_type": "code",
   "execution_count": 32,
   "metadata": {},
   "outputs": [],
   "source": [
    "profile_cleaned = clean_profile(profile)"
   ]
  },
  {
   "cell_type": "code",
   "execution_count": 33,
   "metadata": {},
   "outputs": [
    {
     "data": {
      "text/html": [
       "<div>\n",
       "<style scoped>\n",
       "    .dataframe tbody tr th:only-of-type {\n",
       "        vertical-align: middle;\n",
       "    }\n",
       "\n",
       "    .dataframe tbody tr th {\n",
       "        vertical-align: top;\n",
       "    }\n",
       "\n",
       "    .dataframe thead th {\n",
       "        text-align: right;\n",
       "    }\n",
       "</style>\n",
       "<table border=\"1\" class=\"dataframe\">\n",
       "  <thead>\n",
       "    <tr style=\"text-align: right;\">\n",
       "      <th></th>\n",
       "      <th>age</th>\n",
       "      <th>gender</th>\n",
       "      <th>person</th>\n",
       "      <th>income</th>\n",
       "      <th>days_registered</th>\n",
       "    </tr>\n",
       "  </thead>\n",
       "  <tbody>\n",
       "    <tr>\n",
       "      <th>0</th>\n",
       "      <td>118</td>\n",
       "      <td>None</td>\n",
       "      <td>68be06ca386d4c31939f3a4f0e3dd783</td>\n",
       "      <td>NaN</td>\n",
       "      <td>2467</td>\n",
       "    </tr>\n",
       "    <tr>\n",
       "      <th>1</th>\n",
       "      <td>55</td>\n",
       "      <td>F</td>\n",
       "      <td>0610b486422d4921ae7d2bf64640c50b</td>\n",
       "      <td>112000.0</td>\n",
       "      <td>2314</td>\n",
       "    </tr>\n",
       "    <tr>\n",
       "      <th>2</th>\n",
       "      <td>118</td>\n",
       "      <td>None</td>\n",
       "      <td>38fe809add3b4fcf9315a9694bb96ff5</td>\n",
       "      <td>NaN</td>\n",
       "      <td>1952</td>\n",
       "    </tr>\n",
       "    <tr>\n",
       "      <th>3</th>\n",
       "      <td>75</td>\n",
       "      <td>F</td>\n",
       "      <td>78afa995795e4d85b5d9ceeca43f5fef</td>\n",
       "      <td>100000.0</td>\n",
       "      <td>2381</td>\n",
       "    </tr>\n",
       "    <tr>\n",
       "      <th>4</th>\n",
       "      <td>118</td>\n",
       "      <td>None</td>\n",
       "      <td>a03223e636434f42ac4c3df47e8bac43</td>\n",
       "      <td>NaN</td>\n",
       "      <td>2294</td>\n",
       "    </tr>\n",
       "  </tbody>\n",
       "</table>\n",
       "</div>"
      ],
      "text/plain": [
       "   age gender                            person    income  days_registered\n",
       "0  118   None  68be06ca386d4c31939f3a4f0e3dd783       NaN             2467\n",
       "1   55      F  0610b486422d4921ae7d2bf64640c50b  112000.0             2314\n",
       "2  118   None  38fe809add3b4fcf9315a9694bb96ff5       NaN             1952\n",
       "3   75      F  78afa995795e4d85b5d9ceeca43f5fef  100000.0             2381\n",
       "4  118   None  a03223e636434f42ac4c3df47e8bac43       NaN             2294"
      ]
     },
     "execution_count": 33,
     "metadata": {},
     "output_type": "execute_result"
    }
   ],
   "source": [
    "profile_cleaned.head()"
   ]
  },
  {
   "cell_type": "markdown",
   "metadata": {},
   "source": [
    "### 3. Process Transcript Dataset"
   ]
  },
  {
   "cell_type": "markdown",
   "metadata": {},
   "source": [
    "We want to understand which offers were completed, in other words, responded to.\n",
    "\n",
    "We call an offer responded if the user went through the whole funnel, meaning, he/she received an offer, viewed it and completed. If a user received an offer and completed without viewing, we don't say he/she converted.\n",
    "\n",
    "Funnel:  offer received -> offer viewed -> offer completed"
   ]
  },
  {
   "cell_type": "code",
   "execution_count": 34,
   "metadata": {},
   "outputs": [
    {
     "data": {
      "text/html": [
       "<div>\n",
       "<style scoped>\n",
       "    .dataframe tbody tr th:only-of-type {\n",
       "        vertical-align: middle;\n",
       "    }\n",
       "\n",
       "    .dataframe tbody tr th {\n",
       "        vertical-align: top;\n",
       "    }\n",
       "\n",
       "    .dataframe thead th {\n",
       "        text-align: right;\n",
       "    }\n",
       "</style>\n",
       "<table border=\"1\" class=\"dataframe\">\n",
       "  <thead>\n",
       "    <tr style=\"text-align: right;\">\n",
       "      <th></th>\n",
       "      <th>event</th>\n",
       "      <th>person</th>\n",
       "      <th>time</th>\n",
       "      <th>value</th>\n",
       "    </tr>\n",
       "  </thead>\n",
       "  <tbody>\n",
       "    <tr>\n",
       "      <th>0</th>\n",
       "      <td>offer received</td>\n",
       "      <td>78afa995795e4d85b5d9ceeca43f5fef</td>\n",
       "      <td>0</td>\n",
       "      <td>{'offer id': '9b98b8c7a33c4b65b9aebfe6a799e6d9'}</td>\n",
       "    </tr>\n",
       "    <tr>\n",
       "      <th>1</th>\n",
       "      <td>offer received</td>\n",
       "      <td>a03223e636434f42ac4c3df47e8bac43</td>\n",
       "      <td>0</td>\n",
       "      <td>{'offer id': '0b1e1539f2cc45b7b9fa7c272da2e1d7'}</td>\n",
       "    </tr>\n",
       "    <tr>\n",
       "      <th>2</th>\n",
       "      <td>offer received</td>\n",
       "      <td>e2127556f4f64592b11af22de27a7932</td>\n",
       "      <td>0</td>\n",
       "      <td>{'offer id': '2906b810c7d4411798c6938adc9daaa5'}</td>\n",
       "    </tr>\n",
       "    <tr>\n",
       "      <th>3</th>\n",
       "      <td>offer received</td>\n",
       "      <td>8ec6ce2a7e7949b1bf142def7d0e0586</td>\n",
       "      <td>0</td>\n",
       "      <td>{'offer id': 'fafdcd668e3743c1bb461111dcafc2a4'}</td>\n",
       "    </tr>\n",
       "    <tr>\n",
       "      <th>4</th>\n",
       "      <td>offer received</td>\n",
       "      <td>68617ca6246f4fbc85e91a2a49552598</td>\n",
       "      <td>0</td>\n",
       "      <td>{'offer id': '4d5c57ea9a6940dd891ad53e9dbe8da0'}</td>\n",
       "    </tr>\n",
       "  </tbody>\n",
       "</table>\n",
       "</div>"
      ],
      "text/plain": [
       "            event                            person  time  \\\n",
       "0  offer received  78afa995795e4d85b5d9ceeca43f5fef     0   \n",
       "1  offer received  a03223e636434f42ac4c3df47e8bac43     0   \n",
       "2  offer received  e2127556f4f64592b11af22de27a7932     0   \n",
       "3  offer received  8ec6ce2a7e7949b1bf142def7d0e0586     0   \n",
       "4  offer received  68617ca6246f4fbc85e91a2a49552598     0   \n",
       "\n",
       "                                              value  \n",
       "0  {'offer id': '9b98b8c7a33c4b65b9aebfe6a799e6d9'}  \n",
       "1  {'offer id': '0b1e1539f2cc45b7b9fa7c272da2e1d7'}  \n",
       "2  {'offer id': '2906b810c7d4411798c6938adc9daaa5'}  \n",
       "3  {'offer id': 'fafdcd668e3743c1bb461111dcafc2a4'}  \n",
       "4  {'offer id': '4d5c57ea9a6940dd891ad53e9dbe8da0'}  "
      ]
     },
     "execution_count": 34,
     "metadata": {},
     "output_type": "execute_result"
    }
   ],
   "source": [
    "transcript.head()"
   ]
  },
  {
   "cell_type": "code",
   "execution_count": 35,
   "metadata": {},
   "outputs": [],
   "source": [
    "def process_transcript(df):\n",
    "    '''\n",
    "    DESCRIPTION\n",
    "    From transcript dataframe, for each 'offer received' event, returns whether a user responded to an event\n",
    "    Adds one column:\n",
    "    responded - 1 if a user responded to an offer, 0 if didn't\n",
    "    \n",
    "    INPUT\n",
    "    df - dataframe of transactions\n",
    "    \n",
    "    OUTPUT\n",
    "    df_cleaned = cleaned dataframe of transaction\n",
    "    '''\n",
    "    # Drop transacation events\n",
    "    df_cleaned = df[df['event'] != 'transaction']\n",
    "    \n",
    "    # Get offer_ids from 'value' column dictionaries\n",
    "    df_cleaned['offer_id'] = df_cleaned['value'].apply(lambda x: x['offer id'] if 'offer id' in x else x['offer_id'])\n",
    "    \n",
    "    # Drop 'Value' column\n",
    "    df_cleaned = df_cleaned.drop(['value'], axis = 1)\n",
    "    \n",
    "    # Sort data for Window Functions\n",
    "    df_cleaned = df_cleaned.sort_values(['person', 'offer_id', 'time'])\n",
    "    \n",
    "    # For each user & offer & time, get the next two actions as a separate column\n",
    "    df_cleaned['step_1'] = df_cleaned['event'].shift(-1)\n",
    "    df_cleaned['step_2'] = df_cleaned['event'].shift(-2)\n",
    "    \n",
    "    # Leave rows with 'offer receieved' as 'event' and remove 'event' field\n",
    "    df_cleaned = df_cleaned[df_cleaned['event'] == 'offer received'].drop('event', axis = 1)\n",
    "    \n",
    "    # Add column 'responded', logic - if a user viewed and then completed, then 1, else 0\n",
    "    df_cleaned['responded'] = (df_cleaned['step_1'] == 'offer viewed') & (df_cleaned['step_2'] == 'offer completed')\n",
    "    df_cleaned['responded'] = df_cleaned['responded'].map({True: 1, False: 0})\n",
    "    \n",
    "    # Drop step columns\n",
    "    df_cleaned = df_cleaned.drop(['step_1', 'step_2'], axis = 1)\n",
    "    \n",
    "    # return cleaned df\n",
    "    return df_cleaned"
   ]
  },
  {
   "cell_type": "code",
   "execution_count": 36,
   "metadata": {},
   "outputs": [],
   "source": [
    "processed_transcript = process_transcript(transcript)"
   ]
  },
  {
   "cell_type": "code",
   "execution_count": 37,
   "metadata": {},
   "outputs": [
    {
     "data": {
      "text/html": [
       "<div>\n",
       "<style scoped>\n",
       "    .dataframe tbody tr th:only-of-type {\n",
       "        vertical-align: middle;\n",
       "    }\n",
       "\n",
       "    .dataframe tbody tr th {\n",
       "        vertical-align: top;\n",
       "    }\n",
       "\n",
       "    .dataframe thead th {\n",
       "        text-align: right;\n",
       "    }\n",
       "</style>\n",
       "<table border=\"1\" class=\"dataframe\">\n",
       "  <thead>\n",
       "    <tr style=\"text-align: right;\">\n",
       "      <th></th>\n",
       "      <th>person</th>\n",
       "      <th>time</th>\n",
       "      <th>offer_id</th>\n",
       "      <th>responded</th>\n",
       "    </tr>\n",
       "  </thead>\n",
       "  <tbody>\n",
       "    <tr>\n",
       "      <th>247879</th>\n",
       "      <td>0009655768c64bdeb2e877511632db8f</td>\n",
       "      <td>576</td>\n",
       "      <td>2906b810c7d4411798c6938adc9daaa5</td>\n",
       "      <td>0</td>\n",
       "    </tr>\n",
       "    <tr>\n",
       "      <th>113605</th>\n",
       "      <td>0009655768c64bdeb2e877511632db8f</td>\n",
       "      <td>336</td>\n",
       "      <td>3f207df678b143eea3cee63160fa8bed</td>\n",
       "      <td>0</td>\n",
       "    </tr>\n",
       "    <tr>\n",
       "      <th>55972</th>\n",
       "      <td>0009655768c64bdeb2e877511632db8f</td>\n",
       "      <td>168</td>\n",
       "      <td>5a8bc65990b245e5a138643cd4eb9837</td>\n",
       "      <td>0</td>\n",
       "    </tr>\n",
       "    <tr>\n",
       "      <th>153401</th>\n",
       "      <td>0009655768c64bdeb2e877511632db8f</td>\n",
       "      <td>408</td>\n",
       "      <td>f19421c1d4aa40978ebb69ca19b0e20d</td>\n",
       "      <td>0</td>\n",
       "    </tr>\n",
       "    <tr>\n",
       "      <th>204340</th>\n",
       "      <td>0009655768c64bdeb2e877511632db8f</td>\n",
       "      <td>504</td>\n",
       "      <td>fafdcd668e3743c1bb461111dcafc2a4</td>\n",
       "      <td>0</td>\n",
       "    </tr>\n",
       "  </tbody>\n",
       "</table>\n",
       "</div>"
      ],
      "text/plain": [
       "                                  person  time  \\\n",
       "247879  0009655768c64bdeb2e877511632db8f   576   \n",
       "113605  0009655768c64bdeb2e877511632db8f   336   \n",
       "55972   0009655768c64bdeb2e877511632db8f   168   \n",
       "153401  0009655768c64bdeb2e877511632db8f   408   \n",
       "204340  0009655768c64bdeb2e877511632db8f   504   \n",
       "\n",
       "                                offer_id  responded  \n",
       "247879  2906b810c7d4411798c6938adc9daaa5          0  \n",
       "113605  3f207df678b143eea3cee63160fa8bed          0  \n",
       "55972   5a8bc65990b245e5a138643cd4eb9837          0  \n",
       "153401  f19421c1d4aa40978ebb69ca19b0e20d          0  \n",
       "204340  fafdcd668e3743c1bb461111dcafc2a4          0  "
      ]
     },
     "execution_count": 37,
     "metadata": {},
     "output_type": "execute_result"
    }
   ],
   "source": [
    "processed_transcript.head()"
   ]
  },
  {
   "cell_type": "code",
   "execution_count": 38,
   "metadata": {},
   "outputs": [
    {
     "data": {
      "text/plain": [
       "<matplotlib.axes._subplots.AxesSubplot at 0x7fdab0bf6a90>"
      ]
     },
     "execution_count": 38,
     "metadata": {},
     "output_type": "execute_result"
    },
    {
     "data": {
      "image/png": "[encoded data removed]",
      "text/plain": [
       "<matplotlib.figure.Figure at 0x7fdab0bf6ba8>"
      ]
     },
     "metadata": {
      "needs_background": "light"
     },
     "output_type": "display_data"
    }
   ],
   "source": [
    "# Check counts of 'responded'\n",
    "sns.countplot(processed_transcript['responded'])"
   ]
  },
  {
   "cell_type": "code",
   "execution_count": 39,
   "metadata": {},
   "outputs": [
    {
     "data": {
      "text/plain": [
       "0    0.694967\n",
       "1    0.305033\n",
       "Name: responded, dtype: float64"
      ]
     },
     "execution_count": 39,
     "metadata": {},
     "output_type": "execute_result"
    }
   ],
   "source": [
    "# Check percentages\n",
    "processed_transcript['responded'].value_counts()/processed_transcript.shape[0]"
   ]
  },
  {
   "cell_type": "markdown",
   "metadata": {},
   "source": [
    "**Findings**\n",
    "\n",
    "About 70% of received offers are not responded to. So in numbers, what we want to achieve when using our classifier is raise the percentage of 1-s, in other words, conversion rate."
   ]
  },
  {
   "cell_type": "markdown",
   "metadata": {},
   "source": [
    "## 4. Engineer Features\n",
    "\n",
    "We add three features to processed_transcript dataframe:\n",
    "* avg_spent - average amount spent by a customer\n",
    "* trans_cnt - average transactions made by a customer (in transcript dataset, event = transaction)\n",
    "* prev_resp - 1 if user has previously responded an offer with the same offer_id, 0 if hasn't\n",
    "\n",
    "The process:\n",
    "1. Get a dataframe of avg_spent per user and trans_cnt per user ( functions: get_avg_spent, get_trans_cnt)\n",
    "2. Merge with processed_transcript (functions: engineer_event_aggs)\n",
    "3. Calculate prev_resp from processed_transcript (function: engineer_prev_resp_for_fit)"
   ]
  },
  {
   "cell_type": "code",
   "execution_count": 40,
   "metadata": {},
   "outputs": [],
   "source": [
    "def get_avg_spent(df):\n",
    "    '''\n",
    "    DESCRIPTION\n",
    "    Takes transcript dataframe and returns average amount spent by each user\n",
    "    \n",
    "    INPUT\n",
    "    df - transcript dataframe\n",
    "    \n",
    "    OUTPUT\n",
    "    avg_spent - average amount spent dataframe with two columns - person, avg_spent\n",
    "    \n",
    "    '''\n",
    "    # Get transactions\n",
    "    df = df[df['event'] == 'transaction']\n",
    "    \n",
    "    # Get amounts from value column dictionaries\n",
    "    df['avg_spent'] = df['value'].apply(lambda x: x.get('amount'))\n",
    "    \n",
    "    # Get average amount spent per user\n",
    "    avg_spent = df.groupby('person').mean()['avg_spent'].to_frame()\n",
    "    \n",
    "    # Return average amount per user\n",
    "    return avg_spent"
   ]
  },
  {
   "cell_type": "code",
   "execution_count": 41,
   "metadata": {},
   "outputs": [],
   "source": [
    "def get_trans_cnt(df):\n",
    "    '''\n",
    "    DESCRIPTION\n",
    "    Takes transcript dataframe and returns transaction count per user\n",
    "    \n",
    "    INPUT\n",
    "    df - transcript dataframe\n",
    "    \n",
    "    OUTPUT\n",
    "    trans_cnt - transaction count dataframe with two columns - person, trans_cnt\n",
    "    \n",
    "    '''\n",
    "    # Get transaction count per user\n",
    "    trans_cnt = df[df['event'] == 'transaction'].groupby('person').count()['event'].to_frame().rename({'event':'trans_cnt'}, axis = 1)\n",
    "    \n",
    "    # Return transaction count per user\n",
    "    return trans_cnt"
   ]
  },
  {
   "cell_type": "code",
   "execution_count": 42,
   "metadata": {},
   "outputs": [],
   "source": [
    "def engineer_event_aggs(df, transcript):\n",
    "    '''\n",
    "    DESCRIPTION\n",
    "    Adds transaction count and average amount spent columns \n",
    "    \n",
    "    INPUT\n",
    "    df - transcript dataframe\n",
    "    \n",
    "    OUTPUT\n",
    "    df_new - transcipt dataframe with added columns\n",
    "    \n",
    "    '''\n",
    "    # Get transaction count per user\n",
    "    cnt_dict = get_trans_cnt(transcript)\n",
    "    df_new = df.merge(cnt_dict, how = 'left', on = 'person')\n",
    "    \n",
    "    # Get average spent per user\n",
    "    avg_spent_dict = get_avg_spent(transcript)\n",
    "    df_new = df_new.merge(avg_spent_dict, how = 'left', on = 'person')\n",
    "    \n",
    "    # Fillna with 0-s\n",
    "    df_new.fillna(0, inplace = True)\n",
    "    \n",
    "    # Return\n",
    "    return df_new\n"
   ]
  },
  {
   "cell_type": "code",
   "execution_count": 43,
   "metadata": {},
   "outputs": [],
   "source": [
    "# Add avg_spent and trans_cnt\n",
    "processed_transcript = engineer_event_aggs(processed_transcript, transcript)"
   ]
  },
  {
   "cell_type": "code",
   "execution_count": 44,
   "metadata": {},
   "outputs": [
    {
     "data": {
      "text/html": [
       "<div>\n",
       "<style scoped>\n",
       "    .dataframe tbody tr th:only-of-type {\n",
       "        vertical-align: middle;\n",
       "    }\n",
       "\n",
       "    .dataframe tbody tr th {\n",
       "        vertical-align: top;\n",
       "    }\n",
       "\n",
       "    .dataframe thead th {\n",
       "        text-align: right;\n",
       "    }\n",
       "</style>\n",
       "<table border=\"1\" class=\"dataframe\">\n",
       "  <thead>\n",
       "    <tr style=\"text-align: right;\">\n",
       "      <th></th>\n",
       "      <th>person</th>\n",
       "      <th>time</th>\n",
       "      <th>offer_id</th>\n",
       "      <th>responded</th>\n",
       "      <th>trans_cnt</th>\n",
       "      <th>avg_spent</th>\n",
       "    </tr>\n",
       "  </thead>\n",
       "  <tbody>\n",
       "    <tr>\n",
       "      <th>0</th>\n",
       "      <td>0009655768c64bdeb2e877511632db8f</td>\n",
       "      <td>576</td>\n",
       "      <td>2906b810c7d4411798c6938adc9daaa5</td>\n",
       "      <td>0</td>\n",
       "      <td>8.0</td>\n",
       "      <td>15.95</td>\n",
       "    </tr>\n",
       "    <tr>\n",
       "      <th>1</th>\n",
       "      <td>0009655768c64bdeb2e877511632db8f</td>\n",
       "      <td>336</td>\n",
       "      <td>3f207df678b143eea3cee63160fa8bed</td>\n",
       "      <td>0</td>\n",
       "      <td>8.0</td>\n",
       "      <td>15.95</td>\n",
       "    </tr>\n",
       "    <tr>\n",
       "      <th>2</th>\n",
       "      <td>0009655768c64bdeb2e877511632db8f</td>\n",
       "      <td>168</td>\n",
       "      <td>5a8bc65990b245e5a138643cd4eb9837</td>\n",
       "      <td>0</td>\n",
       "      <td>8.0</td>\n",
       "      <td>15.95</td>\n",
       "    </tr>\n",
       "    <tr>\n",
       "      <th>3</th>\n",
       "      <td>0009655768c64bdeb2e877511632db8f</td>\n",
       "      <td>408</td>\n",
       "      <td>f19421c1d4aa40978ebb69ca19b0e20d</td>\n",
       "      <td>0</td>\n",
       "      <td>8.0</td>\n",
       "      <td>15.95</td>\n",
       "    </tr>\n",
       "    <tr>\n",
       "      <th>4</th>\n",
       "      <td>0009655768c64bdeb2e877511632db8f</td>\n",
       "      <td>504</td>\n",
       "      <td>fafdcd668e3743c1bb461111dcafc2a4</td>\n",
       "      <td>0</td>\n",
       "      <td>8.0</td>\n",
       "      <td>15.95</td>\n",
       "    </tr>\n",
       "  </tbody>\n",
       "</table>\n",
       "</div>"
      ],
      "text/plain": [
       "                             person  time                          offer_id  \\\n",
       "0  0009655768c64bdeb2e877511632db8f   576  2906b810c7d4411798c6938adc9daaa5   \n",
       "1  0009655768c64bdeb2e877511632db8f   336  3f207df678b143eea3cee63160fa8bed   \n",
       "2  0009655768c64bdeb2e877511632db8f   168  5a8bc65990b245e5a138643cd4eb9837   \n",
       "3  0009655768c64bdeb2e877511632db8f   408  f19421c1d4aa40978ebb69ca19b0e20d   \n",
       "4  0009655768c64bdeb2e877511632db8f   504  fafdcd668e3743c1bb461111dcafc2a4   \n",
       "\n",
       "   responded  trans_cnt  avg_spent  \n",
       "0          0        8.0      15.95  \n",
       "1          0        8.0      15.95  \n",
       "2          0        8.0      15.95  \n",
       "3          0        8.0      15.95  \n",
       "4          0        8.0      15.95  "
      ]
     },
     "execution_count": 44,
     "metadata": {},
     "output_type": "execute_result"
    }
   ],
   "source": [
    "processed_transcript.head()"
   ]
  },
  {
   "cell_type": "code",
   "execution_count": 45,
   "metadata": {},
   "outputs": [],
   "source": [
    "def engineer_prev_resp_for_fit(df_cleaned):\n",
    "    '''\n",
    "    DESCRIPTION\n",
    "    From cleaned transcript dataframe, for each 'offer received' returns whether a user has previously responded to\n",
    "    the same offer. Adds a column:\n",
    "    prev_resp - 1 if a user previously responded to the same offer, 0 if didn't\n",
    "    \n",
    "    INPUT\n",
    "    df_cleaned - cleaned transcript dataframe\n",
    "    \n",
    "    OUTPUT\n",
    "    df_cleaned - cleaned tranascript dataframe with added prev_resp column\n",
    "    '''\n",
    "    # Has a user previously responded to the same offer\n",
    "    df_cleaned['prev_resp'] = df_cleaned.groupby(['person', 'offer_id']).cumsum()['responded']\n",
    "    df_cleaned['prev_resp'] = df_cleaned['prev_resp'].apply(lambda x: 1 if x > 1 else 0)\n",
    "    \n",
    "    return df_cleaned"
   ]
  },
  {
   "cell_type": "code",
   "execution_count": 46,
   "metadata": {},
   "outputs": [],
   "source": [
    "# Add prev_resp\n",
    "processed_transcript = engineer_prev_resp_for_fit(processed_transcript)"
   ]
  },
  {
   "cell_type": "code",
   "execution_count": 47,
   "metadata": {},
   "outputs": [
    {
     "data": {
      "text/html": [
       "<div>\n",
       "<style scoped>\n",
       "    .dataframe tbody tr th:only-of-type {\n",
       "        vertical-align: middle;\n",
       "    }\n",
       "\n",
       "    .dataframe tbody tr th {\n",
       "        vertical-align: top;\n",
       "    }\n",
       "\n",
       "    .dataframe thead th {\n",
       "        text-align: right;\n",
       "    }\n",
       "</style>\n",
       "<table border=\"1\" class=\"dataframe\">\n",
       "  <thead>\n",
       "    <tr style=\"text-align: right;\">\n",
       "      <th></th>\n",
       "      <th>person</th>\n",
       "      <th>time</th>\n",
       "      <th>offer_id</th>\n",
       "      <th>responded</th>\n",
       "      <th>trans_cnt</th>\n",
       "      <th>avg_spent</th>\n",
       "      <th>prev_resp</th>\n",
       "    </tr>\n",
       "  </thead>\n",
       "  <tbody>\n",
       "    <tr>\n",
       "      <th>0</th>\n",
       "      <td>0009655768c64bdeb2e877511632db8f</td>\n",
       "      <td>576</td>\n",
       "      <td>2906b810c7d4411798c6938adc9daaa5</td>\n",
       "      <td>0</td>\n",
       "      <td>8.0</td>\n",
       "      <td>15.95</td>\n",
       "      <td>0</td>\n",
       "    </tr>\n",
       "    <tr>\n",
       "      <th>1</th>\n",
       "      <td>0009655768c64bdeb2e877511632db8f</td>\n",
       "      <td>336</td>\n",
       "      <td>3f207df678b143eea3cee63160fa8bed</td>\n",
       "      <td>0</td>\n",
       "      <td>8.0</td>\n",
       "      <td>15.95</td>\n",
       "      <td>0</td>\n",
       "    </tr>\n",
       "    <tr>\n",
       "      <th>2</th>\n",
       "      <td>0009655768c64bdeb2e877511632db8f</td>\n",
       "      <td>168</td>\n",
       "      <td>5a8bc65990b245e5a138643cd4eb9837</td>\n",
       "      <td>0</td>\n",
       "      <td>8.0</td>\n",
       "      <td>15.95</td>\n",
       "      <td>0</td>\n",
       "    </tr>\n",
       "    <tr>\n",
       "      <th>3</th>\n",
       "      <td>0009655768c64bdeb2e877511632db8f</td>\n",
       "      <td>408</td>\n",
       "      <td>f19421c1d4aa40978ebb69ca19b0e20d</td>\n",
       "      <td>0</td>\n",
       "      <td>8.0</td>\n",
       "      <td>15.95</td>\n",
       "      <td>0</td>\n",
       "    </tr>\n",
       "    <tr>\n",
       "      <th>4</th>\n",
       "      <td>0009655768c64bdeb2e877511632db8f</td>\n",
       "      <td>504</td>\n",
       "      <td>fafdcd668e3743c1bb461111dcafc2a4</td>\n",
       "      <td>0</td>\n",
       "      <td>8.0</td>\n",
       "      <td>15.95</td>\n",
       "      <td>0</td>\n",
       "    </tr>\n",
       "  </tbody>\n",
       "</table>\n",
       "</div>"
      ],
      "text/plain": [
       "                             person  time                          offer_id  \\\n",
       "0  0009655768c64bdeb2e877511632db8f   576  2906b810c7d4411798c6938adc9daaa5   \n",
       "1  0009655768c64bdeb2e877511632db8f   336  3f207df678b143eea3cee63160fa8bed   \n",
       "2  0009655768c64bdeb2e877511632db8f   168  5a8bc65990b245e5a138643cd4eb9837   \n",
       "3  0009655768c64bdeb2e877511632db8f   408  f19421c1d4aa40978ebb69ca19b0e20d   \n",
       "4  0009655768c64bdeb2e877511632db8f   504  fafdcd668e3743c1bb461111dcafc2a4   \n",
       "\n",
       "   responded  trans_cnt  avg_spent  prev_resp  \n",
       "0          0        8.0      15.95          0  \n",
       "1          0        8.0      15.95          0  \n",
       "2          0        8.0      15.95          0  \n",
       "3          0        8.0      15.95          0  \n",
       "4          0        8.0      15.95          0  "
      ]
     },
     "execution_count": 47,
     "metadata": {},
     "output_type": "execute_result"
    }
   ],
   "source": [
    "processed_transcript.head()"
   ]
  },
  {
   "cell_type": "markdown",
   "metadata": {},
   "source": [
    "## 5. Merge Datasets\n",
    "\n",
    "Now we merge all three of our processed datasets."
   ]
  },
  {
   "cell_type": "code",
   "execution_count": 48,
   "metadata": {},
   "outputs": [],
   "source": [
    "df = processed_transcript.merge(portfolio_cleaned, how = 'inner', on = 'offer_id')\n",
    "df = df.merge(profile_cleaned, how = 'inner', on = 'person')"
   ]
  },
  {
   "cell_type": "code",
   "execution_count": 49,
   "metadata": {},
   "outputs": [
    {
     "data": {
      "text/html": [
       "<div>\n",
       "<style scoped>\n",
       "    .dataframe tbody tr th:only-of-type {\n",
       "        vertical-align: middle;\n",
       "    }\n",
       "\n",
       "    .dataframe tbody tr th {\n",
       "        vertical-align: top;\n",
       "    }\n",
       "\n",
       "    .dataframe thead th {\n",
       "        text-align: right;\n",
       "    }\n",
       "</style>\n",
       "<table border=\"1\" class=\"dataframe\">\n",
       "  <thead>\n",
       "    <tr style=\"text-align: right;\">\n",
       "      <th></th>\n",
       "      <th>person</th>\n",
       "      <th>time</th>\n",
       "      <th>offer_id</th>\n",
       "      <th>responded</th>\n",
       "      <th>trans_cnt</th>\n",
       "      <th>avg_spent</th>\n",
       "      <th>prev_resp</th>\n",
       "      <th>difficulty</th>\n",
       "      <th>duration</th>\n",
       "      <th>reward</th>\n",
       "      <th>social</th>\n",
       "      <th>mobile</th>\n",
       "      <th>bogo</th>\n",
       "      <th>age</th>\n",
       "      <th>gender</th>\n",
       "      <th>income</th>\n",
       "      <th>days_registered</th>\n",
       "    </tr>\n",
       "  </thead>\n",
       "  <tbody>\n",
       "    <tr>\n",
       "      <th>0</th>\n",
       "      <td>0009655768c64bdeb2e877511632db8f</td>\n",
       "      <td>576</td>\n",
       "      <td>2906b810c7d4411798c6938adc9daaa5</td>\n",
       "      <td>0</td>\n",
       "      <td>8.0</td>\n",
       "      <td>15.95</td>\n",
       "      <td>0</td>\n",
       "      <td>10</td>\n",
       "      <td>7</td>\n",
       "      <td>2</td>\n",
       "      <td>0</td>\n",
       "      <td>1</td>\n",
       "      <td>0</td>\n",
       "      <td>33</td>\n",
       "      <td>M</td>\n",
       "      <td>72000.0</td>\n",
       "      <td>2399</td>\n",
       "    </tr>\n",
       "    <tr>\n",
       "      <th>1</th>\n",
       "      <td>0009655768c64bdeb2e877511632db8f</td>\n",
       "      <td>408</td>\n",
       "      <td>f19421c1d4aa40978ebb69ca19b0e20d</td>\n",
       "      <td>0</td>\n",
       "      <td>8.0</td>\n",
       "      <td>15.95</td>\n",
       "      <td>0</td>\n",
       "      <td>5</td>\n",
       "      <td>5</td>\n",
       "      <td>5</td>\n",
       "      <td>1</td>\n",
       "      <td>1</td>\n",
       "      <td>1</td>\n",
       "      <td>33</td>\n",
       "      <td>M</td>\n",
       "      <td>72000.0</td>\n",
       "      <td>2399</td>\n",
       "    </tr>\n",
       "    <tr>\n",
       "      <th>2</th>\n",
       "      <td>0009655768c64bdeb2e877511632db8f</td>\n",
       "      <td>504</td>\n",
       "      <td>fafdcd668e3743c1bb461111dcafc2a4</td>\n",
       "      <td>0</td>\n",
       "      <td>8.0</td>\n",
       "      <td>15.95</td>\n",
       "      <td>0</td>\n",
       "      <td>10</td>\n",
       "      <td>10</td>\n",
       "      <td>2</td>\n",
       "      <td>1</td>\n",
       "      <td>1</td>\n",
       "      <td>0</td>\n",
       "      <td>33</td>\n",
       "      <td>M</td>\n",
       "      <td>72000.0</td>\n",
       "      <td>2399</td>\n",
       "    </tr>\n",
       "    <tr>\n",
       "      <th>3</th>\n",
       "      <td>00426fe3ffde4c6b9cb9ad6d077a13ea</td>\n",
       "      <td>408</td>\n",
       "      <td>2906b810c7d4411798c6938adc9daaa5</td>\n",
       "      <td>0</td>\n",
       "      <td>17.0</td>\n",
       "      <td>4.03</td>\n",
       "      <td>0</td>\n",
       "      <td>10</td>\n",
       "      <td>7</td>\n",
       "      <td>2</td>\n",
       "      <td>0</td>\n",
       "      <td>1</td>\n",
       "      <td>0</td>\n",
       "      <td>19</td>\n",
       "      <td>F</td>\n",
       "      <td>65000.0</td>\n",
       "      <td>2654</td>\n",
       "    </tr>\n",
       "    <tr>\n",
       "      <th>4</th>\n",
       "      <td>00426fe3ffde4c6b9cb9ad6d077a13ea</td>\n",
       "      <td>576</td>\n",
       "      <td>2906b810c7d4411798c6938adc9daaa5</td>\n",
       "      <td>0</td>\n",
       "      <td>17.0</td>\n",
       "      <td>4.03</td>\n",
       "      <td>0</td>\n",
       "      <td>10</td>\n",
       "      <td>7</td>\n",
       "      <td>2</td>\n",
       "      <td>0</td>\n",
       "      <td>1</td>\n",
       "      <td>0</td>\n",
       "      <td>19</td>\n",
       "      <td>F</td>\n",
       "      <td>65000.0</td>\n",
       "      <td>2654</td>\n",
       "    </tr>\n",
       "  </tbody>\n",
       "</table>\n",
       "</div>"
      ],
      "text/plain": [
       "                             person  time                          offer_id  \\\n",
       "0  0009655768c64bdeb2e877511632db8f   576  2906b810c7d4411798c6938adc9daaa5   \n",
       "1  0009655768c64bdeb2e877511632db8f   408  f19421c1d4aa40978ebb69ca19b0e20d   \n",
       "2  0009655768c64bdeb2e877511632db8f   504  fafdcd668e3743c1bb461111dcafc2a4   \n",
       "3  00426fe3ffde4c6b9cb9ad6d077a13ea   408  2906b810c7d4411798c6938adc9daaa5   \n",
       "4  00426fe3ffde4c6b9cb9ad6d077a13ea   576  2906b810c7d4411798c6938adc9daaa5   \n",
       "\n",
       "   responded  trans_cnt  avg_spent  prev_resp  difficulty  duration  reward  \\\n",
       "0          0        8.0      15.95          0          10         7       2   \n",
       "1          0        8.0      15.95          0           5         5       5   \n",
       "2          0        8.0      15.95          0          10        10       2   \n",
       "3          0       17.0       4.03          0          10         7       2   \n",
       "4          0       17.0       4.03          0          10         7       2   \n",
       "\n",
       "   social  mobile  bogo  age gender   income  days_registered  \n",
       "0       0       1     0   33      M  72000.0             2399  \n",
       "1       1       1     1   33      M  72000.0             2399  \n",
       "2       1       1     0   33      M  72000.0             2399  \n",
       "3       0       1     0   19      F  65000.0             2654  \n",
       "4       0       1     0   19      F  65000.0             2654  "
      ]
     },
     "execution_count": 49,
     "metadata": {},
     "output_type": "execute_result"
    }
   ],
   "source": [
    "df.head()"
   ]
  },
  {
   "cell_type": "code",
   "execution_count": 50,
   "metadata": {},
   "outputs": [
    {
     "data": {
      "text/plain": [
       "(61042, 17)"
      ]
     },
     "execution_count": 50,
     "metadata": {},
     "output_type": "execute_result"
    }
   ],
   "source": [
    "df.shape"
   ]
  },
  {
   "cell_type": "markdown",
   "metadata": {},
   "source": [
    "## 5. Split into Train and Test\n",
    "\n",
    "Once we have the whole dataframe, we can split it into train and test. We want to make sure we have users with and without demographic data in our test set.\n",
    "\n",
    "Also, because we use columns that reflect history of a user (e.g. prev_resp), it makes sense to take the latest period as a test set. For 'offer received', the  latest time was 576, let's check how many records there are."
   ]
  },
  {
   "cell_type": "code",
   "execution_count": 51,
   "metadata": {},
   "outputs": [
    {
     "data": {
      "text/plain": [
       "10175"
      ]
     },
     "execution_count": 51,
     "metadata": {},
     "output_type": "execute_result"
    }
   ],
   "source": [
    "# Number of records\n",
    "df[df['time'] == 576].shape[0]"
   ]
  },
  {
   "cell_type": "code",
   "execution_count": 52,
   "metadata": {},
   "outputs": [
    {
     "data": {
      "text/plain": [
       "0.16668850955080108"
      ]
     },
     "execution_count": 52,
     "metadata": {},
     "output_type": "execute_result"
    }
   ],
   "source": [
    "# % of all offers received\n",
    "df[df['time'] == 576].shape[0]/df.shape[0]"
   ]
  },
  {
   "cell_type": "code",
   "execution_count": 53,
   "metadata": {},
   "outputs": [
    {
     "data": {
      "text/plain": [
       "1276"
      ]
     },
     "execution_count": 53,
     "metadata": {},
     "output_type": "execute_result"
    }
   ],
   "source": [
    "# Check demographic data absent\n",
    "df[(df['time'] == 576) & (df['age'] == 118)].shape[0]"
   ]
  },
  {
   "cell_type": "markdown",
   "metadata": {},
   "source": [
    "#### Great! About the same % of nulls as in total, we can split now"
   ]
  },
  {
   "cell_type": "code",
   "execution_count": 54,
   "metadata": {},
   "outputs": [],
   "source": [
    "def split_train_test(df_cleaned):\n",
    "    '''\n",
    "    DESCRIPTION\n",
    "    Splits cleaned transcript dataframe into train and test sets. Offers received on the last day (day 576)\n",
    "    are classified as test set. Creates two files:\n",
    "    xtest.csv - csv with 'person' & 'offer_id'\n",
    "    ytest.csv - csv with 'responded'\n",
    "    \n",
    "    INPUT\n",
    "    df - cleaned transcript dataframe\n",
    "    \n",
    "    OUTPUT\n",
    "    train_df - dataframe to use for training\n",
    "    '''\n",
    "    # Get offers received on time = 576\n",
    "    test_df = df_cleaned[df_cleaned['time'] == 576]\n",
    "    \n",
    "    # Export X_test person & offer_id pairs\n",
    "    test_df[['person', 'offer_id']].to_csv('data/xtest.csv', index = False)\n",
    "    \n",
    "    # Export y_test target column\n",
    "    test_df[['responded']].to_csv('data/ytest.csv', index = False)\n",
    "    \n",
    "    # Get training df\n",
    "    train_df = df_cleaned[df_cleaned['time'] < 576]\n",
    "    \n",
    "    # Return\n",
    "    return train_df"
   ]
  },
  {
   "cell_type": "code",
   "execution_count": 55,
   "metadata": {},
   "outputs": [],
   "source": [
    "df = split_train_test(df)"
   ]
  },
  {
   "cell_type": "code",
   "execution_count": 56,
   "metadata": {},
   "outputs": [
    {
     "data": {
      "text/html": [
       "<div>\n",
       "<style scoped>\n",
       "    .dataframe tbody tr th:only-of-type {\n",
       "        vertical-align: middle;\n",
       "    }\n",
       "\n",
       "    .dataframe tbody tr th {\n",
       "        vertical-align: top;\n",
       "    }\n",
       "\n",
       "    .dataframe thead th {\n",
       "        text-align: right;\n",
       "    }\n",
       "</style>\n",
       "<table border=\"1\" class=\"dataframe\">\n",
       "  <thead>\n",
       "    <tr style=\"text-align: right;\">\n",
       "      <th></th>\n",
       "      <th>person</th>\n",
       "      <th>time</th>\n",
       "      <th>offer_id</th>\n",
       "      <th>responded</th>\n",
       "      <th>trans_cnt</th>\n",
       "      <th>avg_spent</th>\n",
       "      <th>prev_resp</th>\n",
       "      <th>difficulty</th>\n",
       "      <th>duration</th>\n",
       "      <th>reward</th>\n",
       "      <th>social</th>\n",
       "      <th>mobile</th>\n",
       "      <th>bogo</th>\n",
       "      <th>age</th>\n",
       "      <th>gender</th>\n",
       "      <th>income</th>\n",
       "      <th>days_registered</th>\n",
       "    </tr>\n",
       "  </thead>\n",
       "  <tbody>\n",
       "    <tr>\n",
       "      <th>1</th>\n",
       "      <td>0009655768c64bdeb2e877511632db8f</td>\n",
       "      <td>408</td>\n",
       "      <td>f19421c1d4aa40978ebb69ca19b0e20d</td>\n",
       "      <td>0</td>\n",
       "      <td>8.0</td>\n",
       "      <td>15.95</td>\n",
       "      <td>0</td>\n",
       "      <td>5</td>\n",
       "      <td>5</td>\n",
       "      <td>5</td>\n",
       "      <td>1</td>\n",
       "      <td>1</td>\n",
       "      <td>1</td>\n",
       "      <td>33</td>\n",
       "      <td>M</td>\n",
       "      <td>72000.0</td>\n",
       "      <td>2399</td>\n",
       "    </tr>\n",
       "    <tr>\n",
       "      <th>2</th>\n",
       "      <td>0009655768c64bdeb2e877511632db8f</td>\n",
       "      <td>504</td>\n",
       "      <td>fafdcd668e3743c1bb461111dcafc2a4</td>\n",
       "      <td>0</td>\n",
       "      <td>8.0</td>\n",
       "      <td>15.95</td>\n",
       "      <td>0</td>\n",
       "      <td>10</td>\n",
       "      <td>10</td>\n",
       "      <td>2</td>\n",
       "      <td>1</td>\n",
       "      <td>1</td>\n",
       "      <td>0</td>\n",
       "      <td>33</td>\n",
       "      <td>M</td>\n",
       "      <td>72000.0</td>\n",
       "      <td>2399</td>\n",
       "    </tr>\n",
       "    <tr>\n",
       "      <th>3</th>\n",
       "      <td>00426fe3ffde4c6b9cb9ad6d077a13ea</td>\n",
       "      <td>408</td>\n",
       "      <td>2906b810c7d4411798c6938adc9daaa5</td>\n",
       "      <td>0</td>\n",
       "      <td>17.0</td>\n",
       "      <td>4.03</td>\n",
       "      <td>0</td>\n",
       "      <td>10</td>\n",
       "      <td>7</td>\n",
       "      <td>2</td>\n",
       "      <td>0</td>\n",
       "      <td>1</td>\n",
       "      <td>0</td>\n",
       "      <td>19</td>\n",
       "      <td>F</td>\n",
       "      <td>65000.0</td>\n",
       "      <td>2654</td>\n",
       "    </tr>\n",
       "    <tr>\n",
       "      <th>5</th>\n",
       "      <td>00426fe3ffde4c6b9cb9ad6d077a13ea</td>\n",
       "      <td>168</td>\n",
       "      <td>fafdcd668e3743c1bb461111dcafc2a4</td>\n",
       "      <td>1</td>\n",
       "      <td>17.0</td>\n",
       "      <td>4.03</td>\n",
       "      <td>0</td>\n",
       "      <td>10</td>\n",
       "      <td>10</td>\n",
       "      <td>2</td>\n",
       "      <td>1</td>\n",
       "      <td>1</td>\n",
       "      <td>0</td>\n",
       "      <td>19</td>\n",
       "      <td>F</td>\n",
       "      <td>65000.0</td>\n",
       "      <td>2654</td>\n",
       "    </tr>\n",
       "    <tr>\n",
       "      <th>6</th>\n",
       "      <td>00426fe3ffde4c6b9cb9ad6d077a13ea</td>\n",
       "      <td>336</td>\n",
       "      <td>0b1e1539f2cc45b7b9fa7c272da2e1d7</td>\n",
       "      <td>0</td>\n",
       "      <td>17.0</td>\n",
       "      <td>4.03</td>\n",
       "      <td>0</td>\n",
       "      <td>20</td>\n",
       "      <td>10</td>\n",
       "      <td>5</td>\n",
       "      <td>0</td>\n",
       "      <td>0</td>\n",
       "      <td>0</td>\n",
       "      <td>19</td>\n",
       "      <td>F</td>\n",
       "      <td>65000.0</td>\n",
       "      <td>2654</td>\n",
       "    </tr>\n",
       "  </tbody>\n",
       "</table>\n",
       "</div>"
      ],
      "text/plain": [
       "                             person  time                          offer_id  \\\n",
       "1  0009655768c64bdeb2e877511632db8f   408  f19421c1d4aa40978ebb69ca19b0e20d   \n",
       "2  0009655768c64bdeb2e877511632db8f   504  fafdcd668e3743c1bb461111dcafc2a4   \n",
       "3  00426fe3ffde4c6b9cb9ad6d077a13ea   408  2906b810c7d4411798c6938adc9daaa5   \n",
       "5  00426fe3ffde4c6b9cb9ad6d077a13ea   168  fafdcd668e3743c1bb461111dcafc2a4   \n",
       "6  00426fe3ffde4c6b9cb9ad6d077a13ea   336  0b1e1539f2cc45b7b9fa7c272da2e1d7   \n",
       "\n",
       "   responded  trans_cnt  avg_spent  prev_resp  difficulty  duration  reward  \\\n",
       "1          0        8.0      15.95          0           5         5       5   \n",
       "2          0        8.0      15.95          0          10        10       2   \n",
       "3          0       17.0       4.03          0          10         7       2   \n",
       "5          1       17.0       4.03          0          10        10       2   \n",
       "6          0       17.0       4.03          0          20        10       5   \n",
       "\n",
       "   social  mobile  bogo  age gender   income  days_registered  \n",
       "1       1       1     1   33      M  72000.0             2399  \n",
       "2       1       1     0   33      M  72000.0             2399  \n",
       "3       0       1     0   19      F  65000.0             2654  \n",
       "5       1       1     0   19      F  65000.0             2654  \n",
       "6       0       0     0   19      F  65000.0             2654  "
      ]
     },
     "execution_count": 56,
     "metadata": {},
     "output_type": "execute_result"
    }
   ],
   "source": [
    "df.head()"
   ]
  },
  {
   "cell_type": "markdown",
   "metadata": {},
   "source": [
    "## 6. Explore and Modify Train Set\n",
    "\n",
    "Now that we have training data, we can drop identifier columns: 'person', 'time' and 'offer_id' and explore the dataset.\n",
    "\n",
    "Let's split the dataset in df (rows with demographic data) and df_nulls(rows without demograhpic data), because it's probably best to handle them separately. There's no sound logic to impute all the nulls in three columns."
   ]
  },
  {
   "cell_type": "code",
   "execution_count": 57,
   "metadata": {},
   "outputs": [],
   "source": [
    "# Drop columns\n",
    "df.drop(['person', 'time', 'offer_id'], axis = 1, inplace = True)"
   ]
  },
  {
   "cell_type": "code",
   "execution_count": 58,
   "metadata": {},
   "outputs": [
    {
     "data": {
      "text/html": [
       "<div>\n",
       "<style scoped>\n",
       "    .dataframe tbody tr th:only-of-type {\n",
       "        vertical-align: middle;\n",
       "    }\n",
       "\n",
       "    .dataframe tbody tr th {\n",
       "        vertical-align: top;\n",
       "    }\n",
       "\n",
       "    .dataframe thead th {\n",
       "        text-align: right;\n",
       "    }\n",
       "</style>\n",
       "<table border=\"1\" class=\"dataframe\">\n",
       "  <thead>\n",
       "    <tr style=\"text-align: right;\">\n",
       "      <th></th>\n",
       "      <th>responded</th>\n",
       "      <th>trans_cnt</th>\n",
       "      <th>avg_spent</th>\n",
       "      <th>prev_resp</th>\n",
       "      <th>difficulty</th>\n",
       "      <th>duration</th>\n",
       "      <th>reward</th>\n",
       "      <th>social</th>\n",
       "      <th>mobile</th>\n",
       "      <th>bogo</th>\n",
       "      <th>age</th>\n",
       "      <th>gender</th>\n",
       "      <th>income</th>\n",
       "      <th>days_registered</th>\n",
       "    </tr>\n",
       "  </thead>\n",
       "  <tbody>\n",
       "    <tr>\n",
       "      <th>1</th>\n",
       "      <td>0</td>\n",
       "      <td>8.0</td>\n",
       "      <td>15.95</td>\n",
       "      <td>0</td>\n",
       "      <td>5</td>\n",
       "      <td>5</td>\n",
       "      <td>5</td>\n",
       "      <td>1</td>\n",
       "      <td>1</td>\n",
       "      <td>1</td>\n",
       "      <td>33</td>\n",
       "      <td>M</td>\n",
       "      <td>72000.0</td>\n",
       "      <td>2399</td>\n",
       "    </tr>\n",
       "    <tr>\n",
       "      <th>2</th>\n",
       "      <td>0</td>\n",
       "      <td>8.0</td>\n",
       "      <td>15.95</td>\n",
       "      <td>0</td>\n",
       "      <td>10</td>\n",
       "      <td>10</td>\n",
       "      <td>2</td>\n",
       "      <td>1</td>\n",
       "      <td>1</td>\n",
       "      <td>0</td>\n",
       "      <td>33</td>\n",
       "      <td>M</td>\n",
       "      <td>72000.0</td>\n",
       "      <td>2399</td>\n",
       "    </tr>\n",
       "    <tr>\n",
       "      <th>3</th>\n",
       "      <td>0</td>\n",
       "      <td>17.0</td>\n",
       "      <td>4.03</td>\n",
       "      <td>0</td>\n",
       "      <td>10</td>\n",
       "      <td>7</td>\n",
       "      <td>2</td>\n",
       "      <td>0</td>\n",
       "      <td>1</td>\n",
       "      <td>0</td>\n",
       "      <td>19</td>\n",
       "      <td>F</td>\n",
       "      <td>65000.0</td>\n",
       "      <td>2654</td>\n",
       "    </tr>\n",
       "    <tr>\n",
       "      <th>5</th>\n",
       "      <td>1</td>\n",
       "      <td>17.0</td>\n",
       "      <td>4.03</td>\n",
       "      <td>0</td>\n",
       "      <td>10</td>\n",
       "      <td>10</td>\n",
       "      <td>2</td>\n",
       "      <td>1</td>\n",
       "      <td>1</td>\n",
       "      <td>0</td>\n",
       "      <td>19</td>\n",
       "      <td>F</td>\n",
       "      <td>65000.0</td>\n",
       "      <td>2654</td>\n",
       "    </tr>\n",
       "    <tr>\n",
       "      <th>6</th>\n",
       "      <td>0</td>\n",
       "      <td>17.0</td>\n",
       "      <td>4.03</td>\n",
       "      <td>0</td>\n",
       "      <td>20</td>\n",
       "      <td>10</td>\n",
       "      <td>5</td>\n",
       "      <td>0</td>\n",
       "      <td>0</td>\n",
       "      <td>0</td>\n",
       "      <td>19</td>\n",
       "      <td>F</td>\n",
       "      <td>65000.0</td>\n",
       "      <td>2654</td>\n",
       "    </tr>\n",
       "  </tbody>\n",
       "</table>\n",
       "</div>"
      ],
      "text/plain": [
       "   responded  trans_cnt  avg_spent  prev_resp  difficulty  duration  reward  \\\n",
       "1          0        8.0      15.95          0           5         5       5   \n",
       "2          0        8.0      15.95          0          10        10       2   \n",
       "3          0       17.0       4.03          0          10         7       2   \n",
       "5          1       17.0       4.03          0          10        10       2   \n",
       "6          0       17.0       4.03          0          20        10       5   \n",
       "\n",
       "   social  mobile  bogo  age gender   income  days_registered  \n",
       "1       1       1     1   33      M  72000.0             2399  \n",
       "2       1       1     0   33      M  72000.0             2399  \n",
       "3       0       1     0   19      F  65000.0             2654  \n",
       "5       1       1     0   19      F  65000.0             2654  \n",
       "6       0       0     0   19      F  65000.0             2654  "
      ]
     },
     "execution_count": 58,
     "metadata": {},
     "output_type": "execute_result"
    }
   ],
   "source": [
    "df.head()"
   ]
  },
  {
   "cell_type": "code",
   "execution_count": 59,
   "metadata": {},
   "outputs": [
    {
     "data": {
      "text/plain": [
       "<matplotlib.axes._subplots.AxesSubplot at 0x7fdab09bde80>"
      ]
     },
     "execution_count": 59,
     "metadata": {},
     "output_type": "execute_result"
    },
    {
     "data": {
      "image/png": "[encoded data removed]",
      "text/plain": [
       "<matplotlib.figure.Figure at 0x7fdab09bd048>"
      ]
     },
     "metadata": {
      "needs_background": "light"
     },
     "output_type": "display_data"
    }
   ],
   "source": [
    "# Check correlations excluding demographic data because we have nulls\n",
    "plt.figure(figsize = (11,7))\n",
    "sns.heatmap(np.round(df.drop(['age', 'gender', 'income'], axis = 1).corr(), 2), annot = True, cmap = 'mako', vmin = -1, vmax = 1)"
   ]
  },
  {
   "cell_type": "markdown",
   "metadata": {},
   "source": [
    "So pairs with high correlation are:\n",
    "* mobile & difficulty -0.88\n",
    "* bogo & reward 0.75\n",
    "* bogo & duration 0.7\n",
    "* mobile & duration -0.58\n",
    "* difficulty & duration 0.64\n",
    "\n",
    "All of them are in Portfolio dataset which had very few rows, so it makes sense.\n",
    "\n",
    "Columns to drop:\n",
    "* duration - it has -0.01 correlation with target column\n",
    "* difficulty - mobile has higher correlation with target column\n",
    "* bogo - reward has higher correlattion with target column"
   ]
  },
  {
   "cell_type": "code",
   "execution_count": 60,
   "metadata": {},
   "outputs": [],
   "source": [
    "# Drop columns\n",
    "df.drop(['duration', 'difficulty', 'bogo'], axis = 1, inplace = True)"
   ]
  },
  {
   "cell_type": "code",
   "execution_count": 61,
   "metadata": {},
   "outputs": [],
   "source": [
    "# Split\n",
    "df_nulls = df[df['age'] == 118].drop(['gender', 'income', 'age'], axis = 1)\n",
    "df = df[df['age'] != 118]"
   ]
  },
  {
   "cell_type": "markdown",
   "metadata": {},
   "source": [
    "We still need to get dummies for Gender, it wasn't possible up to this point because we had nulls."
   ]
  },
  {
   "cell_type": "code",
   "execution_count": 62,
   "metadata": {},
   "outputs": [],
   "source": [
    "# Get Dummies\n",
    "df = pd.get_dummies(df, drop_first = True)"
   ]
  },
  {
   "cell_type": "code",
   "execution_count": 63,
   "metadata": {},
   "outputs": [
    {
     "data": {
      "text/plain": [
       "<matplotlib.axes._subplots.AxesSubplot at 0x7fdab09a1a58>"
      ]
     },
     "execution_count": 63,
     "metadata": {},
     "output_type": "execute_result"
    },
    {
     "data": {
      "image/png": "[encoded data removed]",
      "text/plain": [
       "<matplotlib.figure.Figure at 0x7fdab0969898>"
      ]
     },
     "metadata": {
      "needs_background": "light"
     },
     "output_type": "display_data"
    }
   ],
   "source": [
    "# Check correlations\n",
    "plt.figure(figsize = (11,7))\n",
    "sns.heatmap(np.round(df.corr(), 2), annot = True, cmap = 'mako', vmin = -1, vmax = 1)"
   ]
  },
  {
   "cell_type": "markdown",
   "metadata": {},
   "source": [
    "**Findings**\n",
    "\n",
    "* Gender_O has low correlation with target column so we can drop it\n",
    "* mobile and social have moderate correlation, they are part of the same offer sometimes so it makes sense\n",
    "* it's logical that income and avg_spent are somewhat positively correlated\n",
    "* days_registered and trans_cnt are moderately positively correlated, which is also logical\n",
    "\n",
    "For moderately or lowly correlated columns, we'll test whether it's worth leaving them after we start modeling. These columns are:\n",
    "1. days_registered - 0.44 correlation with trans_cnt, 0.16 with target column opposed to 0.22 of trans_cnt\n",
    "2. income - 0.49 correlation with avg_spent, 0.14 with target column opposed to 0.2 of avg_spent\n",
    "3. mobile - 0.49 correlation with social, 0.17 with target column opposed to 0.24 of social\n",
    "4. reward - -0.08 to target column\n",
    "5. age - 0.07 to target column"
   ]
  },
  {
   "cell_type": "code",
   "execution_count": 64,
   "metadata": {},
   "outputs": [],
   "source": [
    "# Drop gender_O\n",
    "df.drop('gender_O', axis = 1, inplace = True)"
   ]
  },
  {
   "cell_type": "code",
   "execution_count": 65,
   "metadata": {},
   "outputs": [],
   "source": [
    "# df, df_nulls = af.transform_data(portfolio, profile, transcript)"
   ]
  },
  {
   "cell_type": "markdown",
   "metadata": {},
   "source": [
    "# Data Modeling"
   ]
  },
  {
   "cell_type": "markdown",
   "metadata": {},
   "source": [
    "For modeling we train three classifiers with different parameter sets using GridSearchCV: Random Forests, Logistic Regression and KNeighbors. We do it for both df and df_nulls. For df_nulls, we might end up using none of them, depends whether the columns we have are enough to make decent predictions.\n",
    "\n",
    "As for the metrics to evaluate our models, we'll use accuracy and F1.\n",
    "We need accuracy because every True Positive is potential income and every False Negative is potential cost avoided.\n",
    "We need F1 because we need both precision and recall to be decent. With high precision we make sure our investment will lead to high conversion, with high recall, we make sure we don't miss a lot of potential conversions."
   ]
  },
  {
   "cell_type": "markdown",
   "metadata": {},
   "source": [
    "#### First we need to scale data and split into training and validation sets"
   ]
  },
  {
   "cell_type": "code",
   "execution_count": 66,
   "metadata": {},
   "outputs": [],
   "source": [
    "def split_and_scale(df,scale_cols):\n",
    "    '''\n",
    "    DESCRIPTION\n",
    "    Takes dataframe and column names to scale, splits the dataframe into X and y, scales scale_cols for X\n",
    "    and splits to train and test sets\n",
    "    \n",
    "    INPUT\n",
    "    df - dataframe to split\n",
    "    scale-cols - columns to scale\n",
    "    \n",
    "    OUTPUT\n",
    "    X_train - featurs for training\n",
    "    y_train - target column for training\n",
    "    X_test - features for testing\n",
    "    y_test - target column for testing\n",
    "    scaler - column scaler\n",
    "    \n",
    "    \n",
    "    '''\n",
    "    # Split to X and y\n",
    "    X = df.drop('responded', axis = 1)\n",
    "    y = df['responded']\n",
    "    \n",
    "    # Scale\n",
    "    scaler = StandardScaler()\n",
    "    X[scale_cols] = scaler.fit_transform(X[scale_cols])\n",
    "    \n",
    "    # Split to train and test\n",
    "    X_train, X_test, y_train, y_test = train_test_split(X, y, test_size=0.33, random_state=42)\n",
    "    \n",
    "    # Return\n",
    "    return X_train, X_test, y_train, y_test, scaler"
   ]
  },
  {
   "cell_type": "code",
   "execution_count": 67,
   "metadata": {},
   "outputs": [],
   "source": [
    "# Create list of column names to scale, they're different for dataframes with and without demohraphic data\n",
    "scale_cols = ['reward', 'age', 'income', 'days_registered', 'trans_cnt', 'avg_spent']"
   ]
  },
  {
   "cell_type": "code",
   "execution_count": 68,
   "metadata": {},
   "outputs": [],
   "source": [
    "# First let's try dataset with demographic data\n",
    "X_train, X_test, y_train, y_test, scaler = split_and_scale(df, scale_cols)"
   ]
  },
  {
   "cell_type": "markdown",
   "metadata": {},
   "source": [
    "#### Train and evaluate "
   ]
  },
  {
   "cell_type": "code",
   "execution_count": 69,
   "metadata": {},
   "outputs": [],
   "source": [
    "def train_and_evaluate_models(X_train, y_train, X_test, y_test):\n",
    "    '''\n",
    "    DESCRIPTION\n",
    "    Takes train and test datasests, trains three models with different parameter sets, prints\n",
    "    F1 score and accuracy comparison and returns the best model.\n",
    "    \n",
    "    INPUT\n",
    "    X_train - featurs for training\n",
    "    y_train - target column for training\n",
    "    X_test - features for testing\n",
    "    y_test - target column for testing\n",
    "    \n",
    "    OUTPUT\n",
    "    best_model - model with the highest F1 score\n",
    "    '''\n",
    "    # Create dictionary to keep scores\n",
    "    scores = dict()\n",
    "    \n",
    "    # Start Time\n",
    "    start = time.time()\n",
    "    \n",
    "    # Print to notify that training has started\n",
    "    print('Started training...')\n",
    "    print()\n",
    "    \n",
    "    # Create parameter grid for Random Forest Classifier\n",
    "    param_grid_rfc = { \n",
    "    'n_estimators': [20, 40],\n",
    "    'max_features': ['auto', 'sqrt', 'log2'],\n",
    "    'max_depth' : [6,8,10],\n",
    "    'criterion' :['gini', 'entropy']\n",
    "    }\n",
    "    \n",
    "    # Create, fit and train RFC\n",
    "    rfc_grid = GridSearchCV(estimator=RandomForestClassifier(), param_grid=param_grid_rfc)\n",
    "    rfc_grid.fit(X_train, y_train)\n",
    "    y_pred_rfc = rfc_grid.predict(X_test)\n",
    "    \n",
    "    # Add results to dictionary\n",
    "    scores['rfc'] = [f1_score(y_test, y_pred_rfc), accuracy_score(y_test,y_pred_rfc)]\n",
    "    \n",
    "    # End time\n",
    "    end = time.time()\n",
    "    \n",
    "    # Print notifications\n",
    "    print('rfc done.')\n",
    "    print('time : {}'.format(end - start))\n",
    "    print('Params : {}'.format(rfc_grid.best_params_))\n",
    "    print()\n",
    "    \n",
    "    # Start time\n",
    "    start = time.time()\n",
    "    \n",
    "    # Create grid for Logistic Regression\n",
    "    param_grid_log_reg = { \n",
    "    'C': [2, 5, 10],\n",
    "    'solver': ['lbfgs', 'liblinear', 'sag']\n",
    "    }\n",
    "    \n",
    "    # Create, fit and train Logistic Regression model\n",
    "    log_reg_grid = GridSearchCV(estimator=LogisticRegression(), param_grid=param_grid_log_reg)\n",
    "    log_reg_grid.fit(X_train, y_train)\n",
    "    y_pred_log_reg = log_reg_grid.predict(X_test)\n",
    "    \n",
    "    # Add results to dictionary\n",
    "    scores['log_reg'] = [f1_score(y_test, y_pred_log_reg), accuracy_score(y_test,y_pred_log_reg)]\n",
    "    \n",
    "    # End time\n",
    "    end = time.time()\n",
    "    \n",
    "    # Print notificatitons\n",
    "    print('log_reg done.')\n",
    "    print('time : {}'.format(end - start))\n",
    "    print('Params : {}'.format(log_reg_grid.best_params_))\n",
    "    print()\n",
    "    \n",
    "    # Start time\n",
    "    start = time.time()\n",
    "    \n",
    "    # Create grid for KNeighborsClasifier\n",
    "    param_grid_knn = { \n",
    "    'n_neighbors': [5, 10],\n",
    "    'algorithm': ['ball_tree', 'kd_tree'],\n",
    "    'leaf_size': [30, 50]\n",
    "    }\n",
    "    \n",
    "    # Create, fit and train KNeighbors classifier\n",
    "    knn_grid = GridSearchCV(estimator=KNeighborsClassifier(), param_grid=param_grid_knn)\n",
    "    knn_grid.fit(X_train, y_train)\n",
    "    y_pred_knn = knn_grid.predict(X_test)\n",
    "    \n",
    "    # Add results to dictionary\n",
    "    scores['knn'] = [f1_score(y_test, y_pred_knn), accuracy_score(y_test,y_pred_knn)]\n",
    "    \n",
    "    # End time\n",
    "    end = time.time()\n",
    "    \n",
    "    # Print notifications\n",
    "    print('knn done.')\n",
    "    print('time : {}'.format(end - start))\n",
    "    print('Params : {}'.format(knn_grid.best_params_))\n",
    "    print()\n",
    "    \n",
    "    # Create dataframe from scores and display\n",
    "    df = pd.DataFrame.from_dict(scores, orient='index', columns = ['F1', 'Accuracy'])\n",
    "    display(df)\n",
    "    \n",
    "    # Get best model name\n",
    "    best_model = df.sort_values('F1', ascending = False).index[0]\n",
    "    \n",
    "    # Return best model\n",
    "    if best_model == 'rfc':\n",
    "        return rfc_grid\n",
    "    elif best_model == 'log_reg':\n",
    "        return log_reg_grid\n",
    "    else:\n",
    "        return knn_grid"
   ]
  },
  {
   "cell_type": "code",
   "execution_count": 70,
   "metadata": {},
   "outputs": [
    {
     "name": "stdout",
     "output_type": "stream",
     "text": [
      "Started training...\n",
      "\n",
      "rfc done.\n",
      "time : 77.52124834060669\n",
      "Params : {'criterion': 'gini', 'max_depth': 10, 'max_features': 'log2', 'n_estimators': 20}\n",
      "\n",
      "log_reg done.\n",
      "time : 26.04988694190979\n",
      "Params : {'C': 2, 'solver': 'lbfgs'}\n",
      "\n",
      "knn done.\n",
      "time : 98.85002779960632\n",
      "Params : {'algorithm': 'ball_tree', 'leaf_size': 50, 'n_neighbors': 10}\n",
      "\n"
     ]
    },
    {
     "data": {
      "text/html": [
       "<div>\n",
       "<style scoped>\n",
       "    .dataframe tbody tr th:only-of-type {\n",
       "        vertical-align: middle;\n",
       "    }\n",
       "\n",
       "    .dataframe tbody tr th {\n",
       "        vertical-align: top;\n",
       "    }\n",
       "\n",
       "    .dataframe thead th {\n",
       "        text-align: right;\n",
       "    }\n",
       "</style>\n",
       "<table border=\"1\" class=\"dataframe\">\n",
       "  <thead>\n",
       "    <tr style=\"text-align: right;\">\n",
       "      <th></th>\n",
       "      <th>F1</th>\n",
       "      <th>Accuracy</th>\n",
       "    </tr>\n",
       "  </thead>\n",
       "  <tbody>\n",
       "    <tr>\n",
       "      <th>rfc</th>\n",
       "      <td>0.723363</td>\n",
       "      <td>0.766826</td>\n",
       "    </tr>\n",
       "    <tr>\n",
       "      <th>log_reg</th>\n",
       "      <td>0.636542</td>\n",
       "      <td>0.721614</td>\n",
       "    </tr>\n",
       "    <tr>\n",
       "      <th>knn</th>\n",
       "      <td>0.665917</td>\n",
       "      <td>0.735705</td>\n",
       "    </tr>\n",
       "  </tbody>\n",
       "</table>\n",
       "</div>"
      ],
      "text/plain": [
       "               F1  Accuracy\n",
       "rfc      0.723363  0.766826\n",
       "log_reg  0.636542  0.721614\n",
       "knn      0.665917  0.735705"
      ]
     },
     "metadata": {},
     "output_type": "display_data"
    }
   ],
   "source": [
    "# Train and evaluate models with df\n",
    "best_model = train_and_evaluate_models(X_train, y_train, X_test, y_test)"
   ]
  },
  {
   "cell_type": "markdown",
   "metadata": {},
   "source": [
    "**Findings**\n",
    "* Random Forest Classifier has the higheest F1 as well as the highest Accuracy, so no competition there. And both scores are above 0.7 so they're decent."
   ]
  },
  {
   "cell_type": "code",
   "execution_count": 72,
   "metadata": {},
   "outputs": [],
   "source": [
    "# Let's check non-demographic one\n",
    "scale_cols_nulls = ['reward', 'days_registered', 'trans_cnt', 'avg_spent']\n",
    "X_train_nulls, X_test_nulls, y_train_nulls, y_test_nulls, scale_nulls = split_and_scale(df_nulls, scale_cols_nulls)"
   ]
  },
  {
   "cell_type": "code",
   "execution_count": 74,
   "metadata": {},
   "outputs": [
    {
     "name": "stdout",
     "output_type": "stream",
     "text": [
      "Started training...\n",
      "\n",
      "rfc done.\n",
      "time : 11.334111213684082\n",
      "Params : {'criterion': 'gini', 'max_depth': 8, 'max_features': 'log2', 'n_estimators': 40}\n",
      "\n",
      "log_reg done.\n",
      "time : 8.885775089263916\n",
      "Params : {'C': 10, 'solver': 'sag'}\n",
      "\n",
      "knn done.\n",
      "time : 3.9750335216522217\n",
      "Params : {'algorithm': 'ball_tree', 'leaf_size': 50, 'n_neighbors': 10}\n",
      "\n"
     ]
    },
    {
     "data": {
      "text/html": [
       "<div>\n",
       "<style scoped>\n",
       "    .dataframe tbody tr th:only-of-type {\n",
       "        vertical-align: middle;\n",
       "    }\n",
       "\n",
       "    .dataframe tbody tr th {\n",
       "        vertical-align: top;\n",
       "    }\n",
       "\n",
       "    .dataframe thead th {\n",
       "        text-align: right;\n",
       "    }\n",
       "</style>\n",
       "<table border=\"1\" class=\"dataframe\">\n",
       "  <thead>\n",
       "    <tr style=\"text-align: right;\">\n",
       "      <th></th>\n",
       "      <th>F1</th>\n",
       "      <th>Accuracy</th>\n",
       "    </tr>\n",
       "  </thead>\n",
       "  <tbody>\n",
       "    <tr>\n",
       "      <th>rfc</th>\n",
       "      <td>0.375940</td>\n",
       "      <td>0.885095</td>\n",
       "    </tr>\n",
       "    <tr>\n",
       "      <th>log_reg</th>\n",
       "      <td>0.349869</td>\n",
       "      <td>0.885095</td>\n",
       "    </tr>\n",
       "    <tr>\n",
       "      <th>knn</th>\n",
       "      <td>0.348894</td>\n",
       "      <td>0.877711</td>\n",
       "    </tr>\n",
       "  </tbody>\n",
       "</table>\n",
       "</div>"
      ],
      "text/plain": [
       "               F1  Accuracy\n",
       "rfc      0.375940  0.885095\n",
       "log_reg  0.349869  0.885095\n",
       "knn      0.348894  0.877711"
      ]
     },
     "metadata": {},
     "output_type": "display_data"
    }
   ],
   "source": [
    "# Train and evaluate models with df_nulls\n",
    "best_model_nulls = train_and_evaluate_models(X_train_nulls, y_train_nulls, X_test_nulls,  y_test_nulls)"
   ]
  },
  {
   "cell_type": "markdown",
   "metadata": {},
   "source": [
    "**Findings**\n",
    "* Accuracy looks good, but we could get 88% with just putting 0-s for every row\n",
    "* F1 is really low for all of them, so the model doesn't really help that much\n",
    "\n",
    "So for users without any demographic data, we can just assume they won't respond to such offers. The company might try to either get more information about these users or try different types of offers."
   ]
  },
  {
   "cell_type": "markdown",
   "metadata": {},
   "source": [
    "## Create Classifier\n",
    "As we see, Random Forest Classifier was the best. The classifier transforms data, fits RFC model and makes predictions whether a user will respond to an offer.\n",
    "\n",
    "The classifier is fitted on Portfolio, Profile and Transcript datasets. To predict, it should be provided a path to a csv of person & offer_id pairs and a path to output predictions (person, offer_id, responded). If responded is 1 then user is likely to respond, if 0 then is not.\n",
    "\n",
    "As the test set we use offers received in the last hour (576) of testing. Person & offer_id pairs are in xtest.csv and responded column is in y_test.csv. Also, the classifier contains a single line enabling it for testing and it should be removed if used outside of it.\n",
    "\n",
    "Below are functions that the Classifier class uses, they are very similar to the ones that are used to functions used up to this point."
   ]
  },
  {
   "cell_type": "code",
   "execution_count": 101,
   "metadata": {},
   "outputs": [],
   "source": [
    "def transform_data_to_fit(portfolio, profile, transcript):\n",
    "    '''\n",
    "    DESCRIPTION\n",
    "    Takes portfolio, profiile and transcript, cleanes and merges them\n",
    "    \n",
    "    INPUT\n",
    "    portfilio - dataframe containing campaign data\n",
    "    profile - dataframe containing user data\n",
    "    transcript - dataframe containing transaction data\n",
    "    \n",
    "    OUTPUT\n",
    "    df - cleaned and merged dataset with demographic data present\n",
    "    profile_cleaned - cleaned profile dataframe\n",
    "    portfolio_cleaned - cleaned portfolio dataframe\n",
    "    transcript_cleaned - cleaned transcript dataframe\n",
    "    '''\n",
    "    # Clean Dataframes\n",
    "    portfolio_cleaned = clean_portfolio(portfolio)\n",
    "    profile_cleaned = clean_profile(profile)\n",
    "    transcript_cleaned = engineer_prev_resp_for_fit(engineer_event_aggs(process_transcript(transcript), transcript))\n",
    "    \n",
    "    # Merge Cleaned Dataframes\n",
    "    df = transcript_cleaned.merge(portfolio_cleaned, how = 'inner', on = 'offer_id')\n",
    "    df = df.merge(profile_cleaned, how = 'inner', on = 'person')\n",
    "    \n",
    "    # Drop person & offer_id & time\n",
    "    df.drop(['person', 'offer_id', 'time', 'duration', 'difficulty', 'bogo'], axis = 1, inplace = True)\n",
    "    \n",
    "    # Remove users with age == 118\n",
    "    df = df[df['age'] != 118]\n",
    "    \n",
    "    # Get dummies for Gender \n",
    "    df = pd.get_dummies(df, drop_first = True)\n",
    "    \n",
    "    # Drop gender_O for low correlation\n",
    "    df.drop('gender_O', axis = 1, inplace = True)\n",
    "    \n",
    "    # Return\n",
    "    return df, profile_cleaned, portfolio_cleaned, transcript_cleaned\n",
    "\n",
    "def get_and_transform_data_to_predict(pairs_path, profile_cleaned, portfolio_cleaned, transcript, transcript_cleaned):\n",
    "    '''\n",
    "    DESCRIPTION\n",
    "    Receives person & offer pairs and creates dataframes for training\n",
    "    \n",
    "    INPUT\n",
    "    portfilio - dataframe containing campaign data\n",
    "    profile - dataframe containing user data\n",
    "    transcript - dataframe containing transaction data\n",
    "    transcript_cleaned - cleaned transactions data\n",
    "    \n",
    "    OUTPUT\n",
    "    df - cleaned and merged dataset with demographic data present\n",
    "    df_ids - dataframe with id, person and offer_id columns\n",
    "    df_nulls - cleaned and merged dataset with no demographic data\n",
    "    '''\n",
    "    # Clean Dataframes\n",
    "    pairs = pd.read_csv(pairs_path)\n",
    "    pairs_new = engineer_event_aggs(pairs, transcript)\n",
    "    pairs_new = engineer_prev_resp(pairs_new, transcript_cleaned)\n",
    "    \n",
    "    # Merge Cleaned Dataframes\n",
    "    df = pairs_new.merge(portfolio_cleaned, how = 'left', on = 'offer_id')\n",
    "    df = df.merge(profile_cleaned, how = 'left', on = 'person')\n",
    "    \n",
    "    # Split into dataframes, one with demographic data and the other without\n",
    "    df_nulls = df[df['age'] == 118][['person', 'offer_id']]\n",
    "    df = df[df['age'] != 118]\n",
    "    \n",
    "    # Manually assign 0-s to users with no demographic data\n",
    "    df_nulls['responded'] = 0\n",
    "    \n",
    "    # Drop person & offer_id\n",
    "    df_ids = df[['person', 'offer_id']]\n",
    "    df.drop(['person', 'offer_id', 'duration', 'difficulty', 'bogo'], axis = 1, inplace = True)\n",
    "    \n",
    "    # Get dummies for Gender \n",
    "    df = pd.get_dummies(df, drop_first = True)\n",
    "    \n",
    "    # Drop gender_O\n",
    "    df.drop('gender_O', axis = 1, inplace = True)\n",
    "    \n",
    "    # Return\n",
    "    return df, df_ids, df_nulls\n",
    "\n",
    "\n",
    "def train_model(X_train, y_train):\n",
    "    '''\n",
    "    DESCRIPTION\n",
    "    Train RandomForestClassifier\n",
    "    \n",
    "    INPUT\n",
    "    X_train - featurs for training\n",
    "    y_train - target column for training\n",
    "    \n",
    "    OUTPUT\n",
    "    rfc_grid - rfc model with best parameters\n",
    "    '''\n",
    "    # Start time\n",
    "    start = time.time()\n",
    "    \n",
    "    # Create parameter grid\n",
    "    param_grid_rfc = { \n",
    "    'n_estimators': [20, 40],\n",
    "    'max_features': ['auto', 'sqrt', 'log2'],\n",
    "    'max_depth' : [6,8,10],\n",
    "    'criterion' :['gini', 'entropy']\n",
    "    }\n",
    "    \n",
    "    # Create and train classifier\n",
    "    rfc_grid = GridSearchCV(estimator=RandomForestClassifier(), param_grid=param_grid_rfc)\n",
    "    rfc_grid.fit(X_train, y_train)\n",
    "    \n",
    "    # End time\n",
    "    end = time.time()\n",
    "    \n",
    "    # Print notifications\n",
    "    print('Model is ready')\n",
    "    print('Training time : {}'.format(end - start))\n",
    "    print('Params : {}'.format(rfc_grid.best_params_))\n",
    "    print()\n",
    "    \n",
    "    # Return model\n",
    "    return rfc_grid\n",
    "\n",
    "def engineer_prev_resp(pairs, transcript_cleaned):\n",
    "    '''\n",
    "    DESCRIPTION\n",
    "    For each person-offer pair returns whether the person previously responded to the same offer as column 'prev_resp'\n",
    "    prev_resp - 1 if a user previously responded, 0 if didn't\n",
    "    \n",
    "    INPUT\n",
    "    transcript_new - prediction transcript\n",
    "    transcript_cleand - training transcript, which contains responses for each person-offer pair\n",
    "    \n",
    "    OUTPUT\n",
    "    transcript_new - prediction transcript with 'prev_resp' column added\n",
    "    '''\n",
    "    # For each person-offer pair return responded\n",
    "    transcript_cleaned = transcript_cleaned[transcript_cleaned['responded'] == 1][['person', 'offer_id', 'responded']].drop_duplicates()\n",
    "    \n",
    "    # Add responded column\n",
    "    pairs = pairs.merge(transcript_cleaned, how = 'left', on = ['person', 'offer_id'])\n",
    "    pairs.rename({'responded' : 'prev_resp'}, axis = 1, inplace = True)\n",
    "    pairs['prev_resp'].fillna(0, inplace = True)\n",
    "    \n",
    "    # Return\n",
    "    return pairs"
   ]
  },
  {
   "cell_type": "code",
   "execution_count": 102,
   "metadata": {},
   "outputs": [],
   "source": [
    "class Classifier():\n",
    "    '''\n",
    "    A classifier that uses portfolio, profile and transcript to train RandomForestClassifier and predict whether a user\n",
    "    will respond to an offer for person & offer_id pairs.\n",
    "    '''\n",
    "    \n",
    "    def __init__(self):\n",
    "        '''\n",
    "        DESCRIPTION\n",
    "        Nothing to see here\n",
    "        '''\n",
    "        \n",
    "    def fit(self, portfolio_path, profile_path, transcript_path):\n",
    "        '''\n",
    "        DESCRIPTION\n",
    "        Reads portfolio, profile and transcript databases, transforms and merges them and trains RandomForestTClassifier\n",
    "        \n",
    "        INPUT\n",
    "        portfolio_path - path to portfolio dataset\n",
    "        profile_path - path to profile dataset\n",
    "        transcript_path - path to transcript dataset\n",
    "        \n",
    "        OUTPUT\n",
    "        self.df - cleaned and merged dataset\n",
    "        self.profile_cleaned - cleaned profile dataset\n",
    "        self.portfolio_cleaned - cleaned portfolio dataset\n",
    "        self.transcript_cleaned - cleaned transcript dataset\n",
    "        self.transcript - transcript dataset\n",
    "        self.scalee_cols - columns to scale\n",
    "        self.model - trained rfc modeel\n",
    "        '''\n",
    "        # Notification\n",
    "        print('Importing Data')\n",
    "        \n",
    "        # Import and clean datasets\n",
    "        portfolio = pd.read_json(portfolio_path, orient='records', lines=True)\n",
    "        profile = pd.read_json(profile_path, orient='records', lines=True)\n",
    "        transcript = pd.read_json(transcript_path, orient='records', lines=True)\n",
    "        \n",
    "        # Uncomment if testing in jupyter notebooks\n",
    "        transcript = transcript[(transcript['time'] != 576) | (transcript['event'] != 'offer received')]\n",
    "        \n",
    "        # Notification\n",
    "        print('Transforming Data')\n",
    "        \n",
    "        # Prepare datasets for training\n",
    "        self.df, self.profile_cleaned, self.portfolio_cleaned, self.transcript_cleaned = transform_data_to_fit(portfolio, profile, transcript)\n",
    "        \n",
    "        # Save transcript\n",
    "        self.transcript = transcript\n",
    "        \n",
    "        # Create scale_cols\n",
    "        self.scale_cols = ['reward', 'age', 'income', 'days_registered', 'trans_cnt', 'avg_spent']\n",
    "        \n",
    "        # Notification\n",
    "        print('Training RFC Model')\n",
    "        \n",
    "        # Split datasets into train and test, scale train data\n",
    "        X_train, X_test, y_train, y_test, self.scaler = split_and_scale(self.df, self.scale_cols)\n",
    "        \n",
    "        # Train model\n",
    "        self.model = train_model(X_train, y_train)\n",
    "        \n",
    "    def predict(self, pairs_path, result_path):\n",
    "        '''\n",
    "        DESCRIPTION\n",
    "        Takes person & offer_id pairs and predicts whether a user responds, 1 if responds, 0 if won't\n",
    "        \n",
    "        INPUT\n",
    "        pairs_path - csv with person & offer_id pairs\n",
    "        \n",
    "        OUTPUT\n",
    "        a csv with person & offer_id & response columns\n",
    "        '''\n",
    "        # Get and transfrom data\n",
    "        df_pred, df_ids, df_pred_nulls = get_and_transform_data_to_predict(pairs_path, self.profile_cleaned, self.portfolio_cleaned, self.transcript, self.transcript_cleaned)\n",
    "        \n",
    "        # Scale columns\n",
    "        df_pred[self.scale_cols] = self.scaler.transform(df_pred[self.scale_cols])\n",
    "        \n",
    "        # Predict\n",
    "        y_pred = self.model.predict(df_pred)\n",
    "        df_ids['responded'] = y_pred\n",
    "        \n",
    "        # Create final dataframe\n",
    "        predictions = pd.concat([df_ids, df_pred_nulls])\n",
    "        \n",
    "        # Export to csv\n",
    "        predictions.to_csv(result_path)"
   ]
  },
  {
   "cell_type": "code",
   "execution_count": 103,
   "metadata": {},
   "outputs": [],
   "source": [
    "# Create instance\n",
    "clf = Classifier()\n",
    "\n",
    "# Fit Classifier\n",
    "clf.fit('data/portfolio.json', 'data/profile.json', 'data/transcript.json')\n",
    "\n",
    "# Predict\n",
    "clf.predict('data/xtest.csv', 'data/preds.csv')"
   ]
  },
  {
   "cell_type": "markdown",
   "metadata": {},
   "source": [
    "# Result Evaluation"
   ]
  },
  {
   "cell_type": "code",
   "execution_count": 106,
   "metadata": {},
   "outputs": [],
   "source": [
    "y_pred = pd.read_csv('data/preds.csv')\n",
    "y_test = pd.read_csv('data/ytest.csv')"
   ]
  },
  {
   "cell_type": "code",
   "execution_count": 107,
   "metadata": {},
   "outputs": [],
   "source": [
    "# Set index to compare with y_test\n",
    "y_pred = y_pred.set_index('Unnamed: 0').sort_index()"
   ]
  },
  {
   "cell_type": "code",
   "execution_count": 108,
   "metadata": {},
   "outputs": [
    {
     "name": "stdout",
     "output_type": "stream",
     "text": [
      "F1 score : 0.6728262245285407\n",
      "\n",
      "Accuracy score: 0.745945945945946:\n",
      "\n",
      "Confusion matrix:\n",
      "[[4932 1582]\n",
      " [1003 2658]]\n"
     ]
    }
   ],
   "source": [
    "# Print scores\n",
    "print('F1 score : {}'.format(f1_score(y_test['responded'], y_pred['responded'])))\n",
    "print()\n",
    "print('Accuracy score: {}:'.format(accuracy_score(y_test['responded'], y_pred['responded'])))\n",
    "print()\n",
    "print('Confusion matrix:')\n",
    "print(confusion_matrix(y_test['responded'], y_pred['responded']))"
   ]
  },
  {
   "cell_type": "markdown",
   "metadata": {},
   "source": [
    "0.67 F1 score and 0.75 accuracy is decent but it's not great."
   ]
  },
  {
   "cell_type": "markdown",
   "metadata": {},
   "source": [
    "# Final thoughts"
   ]
  },
  {
   "cell_type": "markdown",
   "metadata": {},
   "source": [
    "There probably are a number of additional steps we can take to make our scores better:\n",
    "1. a deeper dive into EDA would be helpful to catch relationships\n",
    "2. come up and engineer new features\n",
    "3. handle nulls better, currently we simply put 0s for users without demographic data\n",
    "4. maybe divide train and testing sets better\n",
    "5. better error handling, runs without errors currently but it's not ready for production\n",
    "\n",
    "Main challenges:\n",
    "1. again, handling nulls and default values\n",
    "2. feature engineering\n",
    "\n",
    "Interesting parts:\n",
    "1. super interesting to go through the whole end-to-end process\n",
    "2. business problem is very realistic"
   ]
  }
 ],
 "metadata": {
  "kernelspec": {
   "display_name": "Python 3",
   "language": "python",
   "name": "python3"
  },
  "language_info": {
   "codemirror_mode": {
    "name": "ipython",
    "version": 3
   },
   "file_extension": ".py",
   "mimetype": "text/x-python",
   "name": "python",
   "nbconvert_exporter": "python",
   "pygments_lexer": "ipython3",
   "version": "3.6.3"
  }
 },
 "nbformat": 4,
 "nbformat_minor": 2
}
